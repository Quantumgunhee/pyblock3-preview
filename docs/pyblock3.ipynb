{
  "nbformat": 4,
  "nbformat_minor": 0,
  "metadata": {
    "colab": {
      "name": "pyblock3",
      "provenance": [],
      "collapsed_sections": []
    },
    "kernelspec": {
      "name": "python3",
      "display_name": "Python 3"
    }
  },
  "cells": [
    {
      "cell_type": "markdown",
      "metadata": {
        "id": "LYBIEM8gdNNx",
        "colab_type": "text"
      },
      "source": [
        "Clone github repo:"
      ]
    },
    {
      "cell_type": "code",
      "metadata": {
        "id": "ikX8XZB3F_6i",
        "colab_type": "code",
        "colab": {
          "base_uri": "https://localhost:8080/",
          "height": 51
        },
        "outputId": "5e85d7eb-7ad2-489f-d625-59414682c1d1"
      },
      "source": [
        "%cd /content\n",
        "import os\n",
        "from getpass import getpass\n",
        "user = 'hczhai'\n",
        "pw = getpass('Password: ')\n",
        "os.system('git clone https://{}:{}@github.com/block-hczhai/pyblock3.git'.format(user, pw))\n",
        "del pw"
      ],
      "execution_count": 1,
      "outputs": [
        {
          "output_type": "stream",
          "text": [
            "/content\n",
            "Password: ··········\n"
          ],
          "name": "stdout"
        }
      ]
    },
    {
      "cell_type": "code",
      "metadata": {
        "id": "P7DgBtCfGCN8",
        "colab_type": "code",
        "colab": {
          "base_uri": "https://localhost:8080/",
          "height": 34
        },
        "outputId": "5eeae3f3-a16e-48ef-ba3f-9da30ad44be4"
      },
      "source": [
        "%cd pyblock3"
      ],
      "execution_count": 2,
      "outputs": [
        {
          "output_type": "stream",
          "text": [
            "/content/pyblock3\n"
          ],
          "name": "stdout"
        }
      ]
    },
    {
      "cell_type": "markdown",
      "metadata": {
        "id": "aodIERj2ddsq",
        "colab_type": "text"
      },
      "source": [
        "Construct MPO:"
      ]
    },
    {
      "cell_type": "code",
      "metadata": {
        "id": "iuqKuBPGGO4F",
        "colab_type": "code",
        "colab": {}
      },
      "source": [
        "from pyblock3.algebra.core import SparseTensor\n",
        "from pyblock3.algebra.symmetry import SZ, BondInfo\n",
        "from pyblock3.algebra.mps import MPSInfo, MPS\n",
        "from pyblock3.fcidump import FCIDUMP\n",
        "from pyblock3.symbolic.symbolic_mpo import QCSymbolicMPO\n",
        "from pyblock3.hamiltonian import QCHamiltonian\n",
        "import pyblock3.algebra.funcs as pbalg\n",
        "\n",
        "fd = 'data/HUBBARD-L8.FCIDUMP'\n",
        "fcidump = FCIDUMP(pg='d2h').read(fd)\n",
        "hamil = QCHamiltonian(fcidump)\n",
        "mpo = QCSymbolicMPO(hamil).to_sparse()"
      ],
      "execution_count": 13,
      "outputs": []
    },
    {
      "cell_type": "code",
      "metadata": {
        "id": "-s2OQOvZdX5b",
        "colab_type": "code",
        "colab": {
          "base_uri": "https://localhost:8080/",
          "height": 326
        },
        "outputId": "8ae9c67a-8b41-49f7-a329-9b678b1d7bce"
      },
      "source": [
        "print(mpo[0].__class__)\n",
        "mpo[0]"
      ],
      "execution_count": 14,
      "outputs": [
        {
          "output_type": "stream",
          "text": [
            "<class 'pyblock3.algebra.core.FermionTensor'>\n"
          ],
          "name": "stdout"
        },
        {
          "output_type": "execute_result",
          "data": {
            "text/plain": [
              " ODD-  0 (Q=) (< N=0 SZ=0 PG=0 >, < N=1 SZ=1/2 PG=0 >, < N=0 SZ=0 PG=0 >, < N=1 SZ=1/2 PG=0 >) (R=) array([[[[1. , 0.5, 0. , 0. , 0. , 0. , 0. , 0. ]]]])\n",
              " ODD-  1 (Q=) (< N=0 SZ=0 PG=0 >, < N=2 SZ=0 PG=0 >, < N=1 SZ=-1/2 PG=0 >, < N=1 SZ=1/2 PG=0 >) (R=) array([[[[1. , 0.5, 0. , 0. , 0. , 0. , 0. , 0. ]]]])\n",
              " ODD-  2 (Q=) (< N=0 SZ=0 PG=0 >, < N=1 SZ=-1/2 PG=0 >, < N=0 SZ=0 PG=0 >, < N=1 SZ=-1/2 PG=0 >) (R=) array([[[[1. , 0.5, 0. , 0. , 0. , 0. , 0. , 0. ]]]])\n",
              " ODD-  3 (Q=) (< N=0 SZ=0 PG=0 >, < N=2 SZ=0 PG=0 >, < N=1 SZ=1/2 PG=0 >, < N=1 SZ=-1/2 PG=0 >) (R=) array([[[[-1. , -0.5,  0. ,  0. ,  0. ,  0. ,  0. ,  0. ]]]])\n",
              " ODD-  4 (Q=) (< N=0 SZ=0 PG=0 >, < N=0 SZ=0 PG=0 >, < N=1 SZ=1/2 PG=0 >, < N=-1 SZ=-1/2 PG=0 >) (R=) array([[[[ 1. , -0.5,  0. ,  0. ,  0. ,  0. ,  0. ,  0. ]]]])\n",
              " ODD-  5 (Q=) (< N=0 SZ=0 PG=0 >, < N=1 SZ=-1/2 PG=0 >, < N=2 SZ=0 PG=0 >, < N=-1 SZ=-1/2 PG=0 >) (R=) array([[[[ 1. , -0.5,  0. ,  0. ,  0. ,  0. ,  0. ,  0. ]]]])\n",
              " ODD-  6 (Q=) (< N=0 SZ=0 PG=0 >, < N=0 SZ=0 PG=0 >, < N=1 SZ=-1/2 PG=0 >, < N=-1 SZ=1/2 PG=0 >) (R=) array([[[[ 1. , -0.5,  0. ,  0. ,  0. ,  0. ,  0. ,  0. ]]]])\n",
              " ODD-  7 (Q=) (< N=0 SZ=0 PG=0 >, < N=1 SZ=1/2 PG=0 >, < N=2 SZ=0 PG=0 >, < N=-1 SZ=1/2 PG=0 >) (R=) array([[[[-1. ,  0.5,  0. ,  0. ,  0. ,  0. ,  0. ,  0. ]]]])\n",
              "EVEN-  0 (Q=) (< N=0 SZ=0 PG=0 >, < N=0 SZ=0 PG=0 >, < N=0 SZ=0 PG=0 >, < N=0 SZ=0 PG=0 >) (R=) array([[[[0., 1., 0., 0.]]]])\n",
              "EVEN-  1 (Q=) (< N=0 SZ=0 PG=0 >, < N=1 SZ=-1/2 PG=0 >, < N=1 SZ=-1/2 PG=0 >, < N=0 SZ=0 PG=0 >) (R=) array([[[[0., 1., 0., 1.]]]])\n",
              "EVEN-  2 (Q=) (< N=0 SZ=0 PG=0 >, < N=1 SZ=1/2 PG=0 >, < N=1 SZ=1/2 PG=0 >, < N=0 SZ=0 PG=0 >) (R=) array([[[[0., 1., 1., 0.]]]])\n",
              "EVEN-  3 (Q=) (< N=0 SZ=0 PG=0 >, < N=2 SZ=0 PG=0 >, < N=2 SZ=0 PG=0 >, < N=0 SZ=0 PG=0 >) (R=) array([[[[2., 1., 1., 1.]]]])\n",
              "EVEN-  4 (Q=) (< N=0 SZ=0 PG=0 >, < N=2 SZ=0 PG=0 >, < N=0 SZ=0 PG=0 >, < N=2 SZ=0 PG=0 >) (R=) array([[[[-1.,  1.]]]])\n",
              "EVEN-  5 (Q=) (< N=0 SZ=0 PG=0 >, < N=0 SZ=0 PG=0 >, < N=2 SZ=0 PG=0 >, < N=-2 SZ=0 PG=0 >) (R=) array([[[[-1.,  1.]]]])\n",
              "EVEN-  6 (Q=) (< N=0 SZ=0 PG=0 >, < N=1 SZ=-1/2 PG=0 >, < N=1 SZ=1/2 PG=0 >, < N=0 SZ=-1 PG=0 >) (R=) array([[[[1.]]]])\n",
              "EVEN-  7 (Q=) (< N=0 SZ=0 PG=0 >, < N=1 SZ=1/2 PG=0 >, < N=1 SZ=-1/2 PG=0 >, < N=0 SZ=1 PG=0 >) (R=) array([[[[1.]]]])"
            ]
          },
          "metadata": {
            "tags": []
          },
          "execution_count": 14
        }
      ]
    },
    {
      "cell_type": "markdown",
      "metadata": {
        "id": "JRkXk_7qdgBF",
        "colab_type": "text"
      },
      "source": [
        "Construct MPS:"
      ]
    },
    {
      "cell_type": "code",
      "metadata": {
        "id": "AtzCv3y4GQMe",
        "colab_type": "code",
        "colab": {}
      },
      "source": [
        "mps_info = MPSInfo(hamil.n_sites, hamil.vacuum, hamil.target, hamil.basis)\n",
        "mps_info.set_bond_dimension_fci()\n",
        "mps_info.set_bond_dimension(100)\n",
        "mps = MPS.random(mps_info)"
      ],
      "execution_count": 15,
      "outputs": []
    },
    {
      "cell_type": "code",
      "metadata": {
        "id": "DLSkFtbjXbMX",
        "colab_type": "code",
        "colab": {
          "base_uri": "https://localhost:8080/",
          "height": 102
        },
        "outputId": "4f7c31e7-22e5-4fe7-ef58-622465a1975f"
      },
      "source": [
        "print(mps[0].__class__)\n",
        "mps[0]"
      ],
      "execution_count": 16,
      "outputs": [
        {
          "output_type": "stream",
          "text": [
            "<class 'pyblock3.algebra.core.SparseTensor'>\n"
          ],
          "name": "stdout"
        },
        {
          "output_type": "execute_result",
          "data": {
            "text/plain": [
              "  0 (Q=) (< N=0 SZ=0 PG=0 >, < N=0 SZ=0 PG=0 >, < N=0 SZ=0 PG=0 >) (R=) array([[[0.60510428]]])\n",
              "  1 (Q=) (< N=0 SZ=0 PG=0 >, < N=1 SZ=-1/2 PG=0 >, < N=1 SZ=-1/2 PG=0 >) (R=) array([[[0.77893528]]])\n",
              "  2 (Q=) (< N=0 SZ=0 PG=0 >, < N=1 SZ=1/2 PG=0 >, < N=1 SZ=1/2 PG=0 >) (R=) array([[[0.91865902]]])\n",
              "  3 (Q=) (< N=0 SZ=0 PG=0 >, < N=2 SZ=0 PG=0 >, < N=2 SZ=0 PG=0 >) (R=) array([[[0.14380205]]])"
            ]
          },
          "metadata": {
            "tags": []
          },
          "execution_count": 16
        }
      ]
    },
    {
      "cell_type": "markdown",
      "metadata": {
        "id": "pIlaBHcudmOq",
        "colab_type": "text"
      },
      "source": [
        "MPO/MPS algebra:"
      ]
    },
    {
      "cell_type": "code",
      "metadata": {
        "id": "mOoGxgDtbuuA",
        "colab_type": "code",
        "colab": {
          "base_uri": "https://localhost:8080/",
          "height": 34
        },
        "outputId": "ca45a840-2e48-4792-cfbf-e729454cfa84"
      },
      "source": [
        "import numpy as np\n",
        "np.dot(mps, mpo @ mps)"
      ],
      "execution_count": 17,
      "outputs": [
        {
          "output_type": "execute_result",
          "data": {
            "text/plain": [
              "38751646.82385999"
            ]
          },
          "metadata": {
            "tags": []
          },
          "execution_count": 17
        }
      ]
    },
    {
      "cell_type": "markdown",
      "metadata": {
        "id": "XilQiHJ5druF",
        "colab_type": "text"
      },
      "source": [
        "Block-sparse tensor algebra:"
      ]
    },
    {
      "cell_type": "code",
      "metadata": {
        "id": "n4aToH5Ob2WB",
        "colab_type": "code",
        "colab": {
          "base_uri": "https://localhost:8080/",
          "height": 309
        },
        "outputId": "92a80196-0b82-4350-e6cb-574937e328e4"
      },
      "source": [
        "np.tensordot(mps[0], mps[1], axes=1)"
      ],
      "execution_count": 18,
      "outputs": [
        {
          "output_type": "execute_result",
          "data": {
            "text/plain": [
              "  0 (Q=) (< N=0 SZ=0 PG=0 >, < N=0 SZ=0 PG=0 >, < N=0 SZ=0 PG=0 >, < N=0 SZ=0 PG=0 >) (R=) array([[[[0.03758163]]]])\n",
              "  1 (Q=) (< N=0 SZ=0 PG=0 >, < N=0 SZ=0 PG=0 >, < N=1 SZ=-1/2 PG=0 >, < N=1 SZ=-1/2 PG=0 >) (R=) array([[[[0.15936207, 0.52263863]]]])\n",
              "  2 (Q=) (< N=0 SZ=0 PG=0 >, < N=0 SZ=0 PG=0 >, < N=1 SZ=1/2 PG=0 >, < N=1 SZ=1/2 PG=0 >) (R=) array([[[[0.60379297, 0.2836531 ]]]])\n",
              "  3 (Q=) (< N=0 SZ=0 PG=0 >, < N=0 SZ=0 PG=0 >, < N=2 SZ=0 PG=0 >, < N=2 SZ=0 PG=0 >) (R=) array([[[[0.09766495, 0.31217308, 0.46543782, 0.55732633]]]])\n",
              "  4 (Q=) (< N=0 SZ=0 PG=0 >, < N=1 SZ=-1/2 PG=0 >, < N=0 SZ=0 PG=0 >, < N=1 SZ=-1/2 PG=0 >) (R=) array([[[[0.410195  , 0.59455824]]]])\n",
              "  5 (Q=) (< N=0 SZ=0 PG=0 >, < N=1 SZ=-1/2 PG=0 >, < N=1 SZ=-1/2 PG=0 >, < N=2 SZ=-1 PG=0 >) (R=) array([[[[0.08474924]]]])\n",
              "  6 (Q=) (< N=0 SZ=0 PG=0 >, < N=1 SZ=-1/2 PG=0 >, < N=1 SZ=1/2 PG=0 >, < N=2 SZ=0 PG=0 >) (R=) array([[[[0.2240428 , 0.4063493 , 0.36127595, 0.17125435]]]])\n",
              "  7 (Q=) (< N=0 SZ=0 PG=0 >, < N=1 SZ=-1/2 PG=0 >, < N=2 SZ=0 PG=0 >, < N=3 SZ=-1/2 PG=0 >) (R=) array([[[[0.45753257, 0.05087803]]]])\n",
              "  8 (Q=) (< N=0 SZ=0 PG=0 >, < N=1 SZ=1/2 PG=0 >, < N=0 SZ=0 PG=0 >, < N=1 SZ=1/2 PG=0 >) (R=) array([[[[0.51735111, 0.91774924]]]])\n",
              "  9 (Q=) (< N=0 SZ=0 PG=0 >, < N=1 SZ=1/2 PG=0 >, < N=1 SZ=-1/2 PG=0 >, < N=2 SZ=0 PG=0 >) (R=) array([[[[0.79267273, 0.82111701, 0.85991637, 0.426696  ]]]])\n",
              " 10 (Q=) (< N=0 SZ=0 PG=0 >, < N=1 SZ=1/2 PG=0 >, < N=1 SZ=1/2 PG=0 >, < N=2 SZ=1 PG=0 >) (R=) array([[[[0.81309325]]]])\n",
              " 11 (Q=) (< N=0 SZ=0 PG=0 >, < N=1 SZ=1/2 PG=0 >, < N=2 SZ=0 PG=0 >, < N=3 SZ=1/2 PG=0 >) (R=) array([[[[0.22854625, 0.2828675 ]]]])\n",
              " 12 (Q=) (< N=0 SZ=0 PG=0 >, < N=2 SZ=0 PG=0 >, < N=0 SZ=0 PG=0 >, < N=2 SZ=0 PG=0 >) (R=) array([[[[0.02481635, 0.08853209, 0.07289881, 0.13239801]]]])\n",
              " 13 (Q=) (< N=0 SZ=0 PG=0 >, < N=2 SZ=0 PG=0 >, < N=1 SZ=-1/2 PG=0 >, < N=3 SZ=-1/2 PG=0 >) (R=) array([[[[0.09940277, 0.09350611]]]])\n",
              " 14 (Q=) (< N=0 SZ=0 PG=0 >, < N=2 SZ=0 PG=0 >, < N=1 SZ=1/2 PG=0 >, < N=3 SZ=1/2 PG=0 >) (R=) array([[[[0.13715637, 0.05565456]]]])\n",
              " 15 (Q=) (< N=0 SZ=0 PG=0 >, < N=2 SZ=0 PG=0 >, < N=2 SZ=0 PG=0 >, < N=4 SZ=0 PG=0 >) (R=) array([[[[0.10638497]]]])"
            ]
          },
          "metadata": {
            "tags": []
          },
          "execution_count": 18
        }
      ]
    },
    {
      "cell_type": "code",
      "metadata": {
        "id": "Dpeq2PRYb_Un",
        "colab_type": "code",
        "colab": {
          "base_uri": "https://localhost:8080/",
          "height": 34
        },
        "outputId": "77a435ce-5d77-41f7-d20f-2db54c26ef57"
      },
      "source": [
        "pbalg.hdot(mps[0], mps[1]).n_blocks"
      ],
      "execution_count": 19,
      "outputs": [
        {
          "output_type": "execute_result",
          "data": {
            "text/plain": [
              "16"
            ]
          },
          "metadata": {
            "tags": []
          },
          "execution_count": 19
        }
      ]
    },
    {
      "cell_type": "markdown",
      "metadata": {
        "id": "tl972z8EeFY9",
        "colab_type": "text"
      },
      "source": [
        "MPS canonicalization:"
      ]
    },
    {
      "cell_type": "code",
      "metadata": {
        "id": "jT9QRYWhd9TZ",
        "colab_type": "code",
        "colab": {
          "base_uri": "https://localhost:8080/",
          "height": 51
        },
        "outputId": "4cb3e673-2c01-4e26-cb28-555551fceff1"
      },
      "source": [
        "print(\"MPS = \", mps.show_bond_dims())\n",
        "mps = mps.canonicalize(center=0)\n",
        "mps /= mps.norm()\n",
        "print(\"MPS = \", mps.show_bond_dims())"
      ],
      "execution_count": 20,
      "outputs": [
        {
          "output_type": "stream",
          "text": [
            "MPS =  1|4|16|64|115|64|16|4|1\n",
            "MPS =  1|4|16|64|115|64|16|4|1\n"
          ],
          "name": "stdout"
        }
      ]
    },
    {
      "cell_type": "code",
      "metadata": {
        "id": "EVU-QXbseLcu",
        "colab_type": "code",
        "colab": {
          "base_uri": "https://localhost:8080/",
          "height": 34
        },
        "outputId": "6b474d2d-aaca-4242-bd3a-9144e989375b"
      },
      "source": [
        "np.dot(mps, mps)"
      ],
      "execution_count": 21,
      "outputs": [
        {
          "output_type": "execute_result",
          "data": {
            "text/plain": [
              "0.9999999999999999"
            ]
          },
          "metadata": {
            "tags": []
          },
          "execution_count": 21
        }
      ]
    },
    {
      "cell_type": "markdown",
      "metadata": {
        "id": "motdAIPhealx",
        "colab_type": "text"
      },
      "source": [
        "MPO Compression:"
      ]
    },
    {
      "cell_type": "code",
      "metadata": {
        "id": "s9JkibYGeZzt",
        "colab_type": "code",
        "colab": {
          "base_uri": "https://localhost:8080/",
          "height": 51
        },
        "outputId": "494aa4a3-4df4-4ece-c2f0-0ab2264e6fc6"
      },
      "source": [
        "print(\"MPO = \", mpo.show_bond_dims())\n",
        "mpo, _ = mpo.compress(left=True, cutoff=1E-12, norm_cutoff=1E-12)\n",
        "print(\"MPO = \", mpo.show_bond_dims())"
      ],
      "execution_count": 22,
      "outputs": [
        {
          "output_type": "stream",
          "text": [
            "MPO =  1|46|82|142|226|334|466|622|1\n",
            "MPO =  1|6|6|6|6|6|6|6|1\n"
          ],
          "name": "stdout"
        }
      ]
    },
    {
      "cell_type": "markdown",
      "metadata": {
        "id": "inHpJg6jgSU6",
        "colab_type": "text"
      },
      "source": [
        "Build SparseTensor:"
      ]
    },
    {
      "cell_type": "code",
      "metadata": {
        "id": "U41cNKoxeYfE",
        "colab_type": "code",
        "colab": {
          "base_uri": "https://localhost:8080/",
          "height": 85
        },
        "outputId": "60c400e4-0ce0-4b00-c325-b0ca50edd014"
      },
      "source": [
        "hamil.basis[0]"
      ],
      "execution_count": 23,
      "outputs": [
        {
          "output_type": "execute_result",
          "data": {
            "text/plain": [
              "BondInfo({< N=0 SZ=0 PG=0 >: 1,\n",
              "          < N=1 SZ=-1/2 PG=0 >: 1,\n",
              "          < N=1 SZ=1/2 PG=0 >: 1,\n",
              "          < N=2 SZ=0 PG=0 >: 1})"
            ]
          },
          "metadata": {
            "tags": []
          },
          "execution_count": 23
        }
      ]
    },
    {
      "cell_type": "code",
      "metadata": {
        "id": "A8_FS_KqgWCi",
        "colab_type": "code",
        "colab": {
          "base_uri": "https://localhost:8080/",
          "height": 85
        },
        "outputId": "a35f563c-9d67-43ae-bd8f-f39adc4fd1c1"
      },
      "source": [
        "SparseTensor.zeros((hamil.basis[0], hamil.basis[0]))"
      ],
      "execution_count": 24,
      "outputs": [
        {
          "output_type": "execute_result",
          "data": {
            "text/plain": [
              "  0 (Q=) (< N=0 SZ=0 PG=0 >, < N=0 SZ=0 PG=0 >) (R=) array([[0.]])\n",
              "  1 (Q=) (< N=1 SZ=-1/2 PG=0 >, < N=1 SZ=-1/2 PG=0 >) (R=) array([[0.]])\n",
              "  2 (Q=) (< N=1 SZ=1/2 PG=0 >, < N=1 SZ=1/2 PG=0 >) (R=) array([[0.]])\n",
              "  3 (Q=) (< N=2 SZ=0 PG=0 >, < N=2 SZ=0 PG=0 >) (R=) array([[0.]])"
            ]
          },
          "metadata": {
            "tags": []
          },
          "execution_count": 24
        }
      ]
    },
    {
      "cell_type": "code",
      "metadata": {
        "id": "i-BtHJ94gncR",
        "colab_type": "code",
        "colab": {
          "base_uri": "https://localhost:8080/",
          "height": 51
        },
        "outputId": "8a06b064-dec9-462b-d3fc-641f5e0ee0a5"
      },
      "source": [
        "SparseTensor.zeros((hamil.basis[0], hamil.basis[0]), dq=SZ(1, -1, 0))"
      ],
      "execution_count": 25,
      "outputs": [
        {
          "output_type": "execute_result",
          "data": {
            "text/plain": [
              "  0 (Q=) (< N=1 SZ=-1/2 PG=0 >, < N=0 SZ=0 PG=0 >) (R=) array([[0.]])\n",
              "  1 (Q=) (< N=2 SZ=0 PG=0 >, < N=1 SZ=1/2 PG=0 >) (R=) array([[0.]])"
            ]
          },
          "metadata": {
            "tags": []
          },
          "execution_count": 25
        }
      ]
    },
    {
      "cell_type": "code",
      "metadata": {
        "id": "0uIngwqsiYC9",
        "colab_type": "code",
        "colab": {
          "base_uri": "https://localhost:8080/",
          "height": 51
        },
        "outputId": "0479a357-a955-4b58-d82f-fbff8236c803"
      },
      "source": [
        "SparseTensor.zeros((hamil.basis[0], hamil.basis[0]), dq=SZ(1, -1, 0)).transpose()"
      ],
      "execution_count": 26,
      "outputs": [
        {
          "output_type": "execute_result",
          "data": {
            "text/plain": [
              "  0 (Q=) (< N=0 SZ=0 PG=0 >, < N=1 SZ=-1/2 PG=0 >) (R=) array([[0.]])\n",
              "  1 (Q=) (< N=1 SZ=1/2 PG=0 >, < N=2 SZ=0 PG=0 >) (R=) array([[0.]])"
            ]
          },
          "metadata": {
            "tags": []
          },
          "execution_count": 26
        }
      ]
    },
    {
      "cell_type": "code",
      "metadata": {
        "id": "MG9NEvhhg4s1",
        "colab_type": "code",
        "colab": {
          "base_uri": "https://localhost:8080/",
          "height": 170
        },
        "outputId": "24960f7a-d6d2-4949-c233-02900de3619c"
      },
      "source": [
        "SparseTensor.zeros((hamil.basis[0], hamil.basis[0], hamil.basis[0]), pattern='++-')"
      ],
      "execution_count": 27,
      "outputs": [
        {
          "output_type": "execute_result",
          "data": {
            "text/plain": [
              "  0 (Q=) (< N=0 SZ=0 PG=0 >, < N=0 SZ=0 PG=0 >, < N=0 SZ=0 PG=0 >) (R=) array([[[0.]]])\n",
              "  1 (Q=) (< N=0 SZ=0 PG=0 >, < N=1 SZ=-1/2 PG=0 >, < N=1 SZ=-1/2 PG=0 >) (R=) array([[[0.]]])\n",
              "  2 (Q=) (< N=0 SZ=0 PG=0 >, < N=1 SZ=1/2 PG=0 >, < N=1 SZ=1/2 PG=0 >) (R=) array([[[0.]]])\n",
              "  3 (Q=) (< N=0 SZ=0 PG=0 >, < N=2 SZ=0 PG=0 >, < N=2 SZ=0 PG=0 >) (R=) array([[[0.]]])\n",
              "  4 (Q=) (< N=1 SZ=-1/2 PG=0 >, < N=0 SZ=0 PG=0 >, < N=1 SZ=-1/2 PG=0 >) (R=) array([[[0.]]])\n",
              "  5 (Q=) (< N=1 SZ=-1/2 PG=0 >, < N=1 SZ=1/2 PG=0 >, < N=2 SZ=0 PG=0 >) (R=) array([[[0.]]])\n",
              "  6 (Q=) (< N=1 SZ=1/2 PG=0 >, < N=0 SZ=0 PG=0 >, < N=1 SZ=1/2 PG=0 >) (R=) array([[[0.]]])\n",
              "  7 (Q=) (< N=1 SZ=1/2 PG=0 >, < N=1 SZ=-1/2 PG=0 >, < N=2 SZ=0 PG=0 >) (R=) array([[[0.]]])\n",
              "  8 (Q=) (< N=2 SZ=0 PG=0 >, < N=0 SZ=0 PG=0 >, < N=2 SZ=0 PG=0 >) (R=) array([[[0.]]])"
            ]
          },
          "metadata": {
            "tags": []
          },
          "execution_count": 27
        }
      ]
    },
    {
      "cell_type": "code",
      "metadata": {
        "id": "MCGIq2JthFOK",
        "colab_type": "code",
        "colab": {}
      },
      "source": [
        "info = BondInfo({SZ(1, -1, 0): 2, SZ(-1, 1, 0): 3, SZ(0, 0, 0): 2})"
      ],
      "execution_count": 28,
      "outputs": []
    },
    {
      "cell_type": "code",
      "metadata": {
        "id": "0BqBtvECiiHI",
        "colab_type": "code",
        "colab": {
          "base_uri": "https://localhost:8080/",
          "height": 85
        },
        "outputId": "8e261edf-1192-4c45-e615-fd3f1bcf27fc"
      },
      "source": [
        "a = SparseTensor.random((info, info), dq=SZ(1, -1, 0))\n",
        "a"
      ],
      "execution_count": 29,
      "outputs": [
        {
          "output_type": "execute_result",
          "data": {
            "text/plain": [
              "  0 (Q=) (< N=0 SZ=0 PG=0 >, < N=-1 SZ=1/2 PG=0 >) (R=) array([[0.47729531, 0.48417595, 0.8279901 ],\n",
              "       [0.24426988, 0.57768827, 0.20252976]])\n",
              "  1 (Q=) (< N=1 SZ=-1/2 PG=0 >, < N=0 SZ=0 PG=0 >) (R=) array([[0.88366471, 0.27082862],\n",
              "       [0.78864662, 0.84848856]])"
            ]
          },
          "metadata": {
            "tags": []
          },
          "execution_count": 29
        }
      ]
    },
    {
      "cell_type": "code",
      "metadata": {
        "id": "k2o3ikEsioIQ",
        "colab_type": "code",
        "colab": {
          "base_uri": "https://localhost:8080/",
          "height": 102
        },
        "outputId": "d9734e99-22f2-42c0-c935-c40eb0ac9689"
      },
      "source": [
        "a.T"
      ],
      "execution_count": 30,
      "outputs": [
        {
          "output_type": "execute_result",
          "data": {
            "text/plain": [
              "  0 (Q=) (< N=-1 SZ=1/2 PG=0 >, < N=0 SZ=0 PG=0 >) (R=) array([[0.47729531, 0.24426988],\n",
              "       [0.48417595, 0.57768827],\n",
              "       [0.8279901 , 0.20252976]])\n",
              "  1 (Q=) (< N=0 SZ=0 PG=0 >, < N=1 SZ=-1/2 PG=0 >) (R=) array([[0.88366471, 0.78864662],\n",
              "       [0.27082862, 0.84848856]])"
            ]
          },
          "metadata": {
            "tags": []
          },
          "execution_count": 30
        }
      ]
    },
    {
      "cell_type": "markdown",
      "metadata": {
        "id": "MLpziaWMk7tI",
        "colab_type": "text"
      },
      "source": [
        "DMRG (slow):"
      ]
    },
    {
      "cell_type": "code",
      "metadata": {
        "id": "cXyGWyo7itpi",
        "colab_type": "code",
        "colab": {}
      },
      "source": [
        "from pyblock3.moving_environment import MovingEnvironment\n",
        "from functools import reduce\n",
        "import time\n",
        "\n",
        "mps.opts = dict(cutoff=1E-12, norm_cutoff=1E-12, max_bond_dim=200)\n",
        "me = MovingEnvironment(mps, mpo, mps)"
      ],
      "execution_count": 31,
      "outputs": []
    },
    {
      "cell_type": "code",
      "metadata": {
        "id": "3EsvVstilA8O",
        "colab_type": "code",
        "colab": {}
      },
      "source": [
        "def dmrg(n_sweeps=10, tol=1E-6, dot=1):\n",
        "    eners = np.zeros((n_sweeps, ))\n",
        "    for iw in range(n_sweeps):\n",
        "        print(\"Sweep = %4d | Direction = %8s | Bond dimension = %4d\" % (\n",
        "            iw, \"backward\" if iw % 2 else \"forward\", me.ket.opts[\"max_bond_dim\"]))\n",
        "        for i in range(0, me.n_sites - dot + 1)[::(-1) ** iw]:\n",
        "            tt = time.perf_counter()\n",
        "            eff = me[i:i + dot]\n",
        "            eff.ket[:] = [reduce(pbalg.hdot, eff.ket[:])]\n",
        "            eners[iw], eff, ndav = eff.eigh(iprint=True)\n",
        "            if dot == 2:\n",
        "                wfn = eff.ket[0]\n",
        "                l, s, r = wfn.tensor_svd(\n",
        "                    idx=3, pattern='+++-++', full_matrices=False)\n",
        "                eff.ket[:] = [np.tensordot(l, s.diag(), axes=1), r]\n",
        "            me[i:i + dot] = eff\n",
        "            print(\" %3s Site = %4d-%4d .. Ndav = %4d E = %20.12f T = %8.3f\" % (\n",
        "                \"<--\" if iw % 2 else \"-->\", i, i + dot - 1, ndav, eners[iw], time.perf_counter() - tt))\n",
        "        if abs(reduce(np.subtract, eners[:iw + 1][-2:])) < tol:\n",
        "            break\n",
        "    return eners[iw]"
      ],
      "execution_count": 32,
      "outputs": []
    },
    {
      "cell_type": "code",
      "metadata": {
        "id": "voU1IqN7lPA5",
        "colab_type": "code",
        "colab": {
          "base_uri": "https://localhost:8080/",
          "height": 1000
        },
        "outputId": "6db16701-fcad-4740-dac8-aefb0718a0b5"
      },
      "source": [
        "tx = time.perf_counter()\n",
        "print(\"GS Energy = %20.12f\" % dmrg())\n",
        "print('time = ', time.perf_counter() - tx)"
      ],
      "execution_count": 33,
      "outputs": [
        {
          "output_type": "stream",
          "text": [
            "Sweep =    0 | Direction =  forward | Bond dimension =  200\n",
            "    1     1     0      3.45508676  8.18e-01\n",
            "    2     2     0      2.74660091  8.55e-01\n",
            "    3     3     0      1.96699137  3.48e-01\n",
            "    4     4     0      1.77842278  2.03e-31\n",
            " --> Site =    0-   0 .. Ndav =    4 E =       1.778422784916 T =    0.209\n",
            "    1     1     0      1.77842278  1.92e+00\n",
            "    2     2     0      0.80601244  9.58e-01\n",
            "    3     3     0      0.43073337  5.52e-01\n",
            "    4     4     0      0.24633072  2.80e-01\n",
            "    5     5     0      0.15858144  1.36e-01\n",
            "    6     6     0      0.10285980  1.37e-01\n",
            "    7     7     0     -0.07466836  5.35e-01\n",
            "    8     8     0     -0.41496062  4.06e-01\n",
            "    9     9     0     -0.54869997  1.05e-01\n",
            "   10    10     0     -0.58160396  2.24e-02\n",
            "   11    11     0     -0.58807379  5.60e-03\n",
            "   12    12     0     -0.58939572  1.01e-03\n",
            "   13    13     0     -0.58965801  1.55e-04\n",
            "   14    14     0     -0.58969637  2.04e-05\n",
            "   15    15     0     -0.58970127  3.38e-06\n",
            " --> Site =    1-   1 .. Ndav =   15 E =      -0.589701268640 T =    2.099\n",
            "    1     1     0     -0.58970127  3.04e+00\n",
            "    2     2     0     -1.69304869  1.24e+00\n",
            "    3     3     0     -2.02696343  6.14e-01\n",
            "    4     4     0     -2.25430188  7.43e-01\n",
            "    5     5     0     -2.47372828  5.95e-01\n",
            "    6     6     0     -2.59074912  2.68e-01\n",
            "    7     7     0     -2.65060888  1.66e-01\n",
            "    8     8     0     -2.69602588  1.14e-01\n",
            "    9     9     0     -2.72364727  7.77e-02\n",
            "   10    10     0     -2.74678683  8.30e-02\n",
            "   11    11     0     -2.77506191  1.09e-01\n",
            "   12    12     0     -2.81264167  1.38e-01\n",
            "   13    13     0     -2.85256399  1.19e-01\n",
            "   14    14     0     -2.88080363  7.07e-02\n",
            "   15    15     0     -2.89611871  3.78e-02\n",
            "   16    16     0     -2.90362013  1.55e-02\n",
            "   17    17     0     -2.90674002  5.48e-03\n",
            "   18    18     0     -2.90791329  2.11e-03\n",
            "   19    19     0     -2.90834430  7.36e-04\n",
            "   20    20     0     -2.90849701  2.83e-04\n",
            "   21    21     0     -2.90855498  1.11e-04\n",
            "   22    22     0     -2.90857848  4.31e-05\n",
            "   23    23     0     -2.90858700  1.28e-05\n",
            "   24    24     0     -2.90858967  4.71e-06\n",
            " --> Site =    2-   2 .. Ndav =   24 E =      -2.908589672930 T =   11.854\n",
            "    1     1     0     -2.90858967  5.66e+00\n",
            "    2     2     0     -4.32174966  2.57e+00\n",
            "    3     3     0     -4.81925121  7.52e-01\n",
            "    4     4     0     -4.94729326  2.05e-01\n",
            "    5     5     0     -4.98231503  6.15e-02\n",
            "    6     6     0     -4.99252223  2.38e-02\n",
            "    7     7     0     -4.99719667  1.43e-02\n",
            "    8     8     0     -5.00007043  8.88e-03\n",
            "    9     9     0     -5.00173245  4.93e-03\n",
            "   10    10     0     -5.00258330  2.31e-03\n",
            "   11    11     0     -5.00296405  1.06e-03\n",
            "   12    12     0     -5.00314024  5.11e-04\n",
            "   13    13     0     -5.00322542  2.61e-04\n",
            "   14    14     0     -5.00327053  1.52e-04\n",
            "   15    15     0     -5.00329809  9.19e-05\n",
            "   16    16     0     -5.00331373  4.61e-05\n",
            "   17    17     0     -5.00332083  1.87e-05\n",
            "   18    18     0     -5.00332360  7.00e-06\n",
            "   19    19     0     -5.00332467  2.81e-06\n",
            " --> Site =    3-   3 .. Ndav =   19 E =      -5.003324665936 T =   10.911\n",
            "    1     1     0     -5.00332467  3.40e+00\n",
            "    2     2     0     -5.63790500  1.12e+00\n",
            "    3     3     0     -5.89158813  4.29e-01\n",
            "    4     4     0     -6.00442516  4.01e-01\n",
            "    5     5     0     -6.10373923  2.54e-01\n",
            "    6     6     0     -6.15111522  1.30e-01\n",
            "    7     7     0     -6.17804217  9.16e-02\n",
            "    8     8     0     -6.19586733  6.77e-02\n",
            "    9     9     0     -6.20649412  4.98e-02\n",
            "   10    10     0     -6.21423232  3.16e-02\n",
            "   11    11     0     -6.21972294  1.71e-02\n",
            "   12    12     0     -6.22280475  9.22e-03\n",
            "   13    13     0     -6.22438460  4.55e-03\n",
            "   14    14     0     -6.22509119  2.18e-03\n",
            "   15    15     0     -6.22541226  9.49e-04\n",
            "   16    16     0     -6.22554783  3.31e-04\n",
            "   17    17     0     -6.22559478  1.21e-04\n",
            "   18    18     0     -6.22561122  4.55e-05\n",
            "   19    19     0     -6.22561712  1.51e-05\n",
            "   20    20     0     -6.22561909  4.76e-06\n",
            " --> Site =    4-   4 .. Ndav =   20 E =      -6.225619091374 T =   12.437\n",
            "    1     1     0     -6.22561909  3.01e-06\n",
            " --> Site =    5-   5 .. Ndav =    1 E =      -6.225619091374 T =    0.098\n",
            "    1     1     0     -6.22561909  1.53e-07\n",
            " --> Site =    6-   6 .. Ndav =    1 E =      -6.225619091374 T =    0.050\n",
            "    1     1     0     -6.22561909  2.72e-08\n",
            " --> Site =    7-   7 .. Ndav =    1 E =      -6.225619091374 T =    0.020\n",
            "Sweep =    1 | Direction = backward | Bond dimension =  200\n",
            "    1     1     0     -6.22561909  2.72e-08\n",
            " <-- Site =    7-   7 .. Ndav =    1 E =      -6.225619091374 T =    0.011\n",
            "    1     1     0     -6.22561909  1.53e-07\n",
            " <-- Site =    6-   6 .. Ndav =    1 E =      -6.225619091374 T =    0.040\n",
            "    1     1     0     -6.22561909  3.01e-06\n",
            " <-- Site =    5-   5 .. Ndav =    1 E =      -6.225619091374 T =    0.073\n",
            "    1     1     0     -6.22561909  4.76e-06\n",
            " <-- Site =    4-   4 .. Ndav =    1 E =      -6.225619091374 T =    0.108\n",
            "    1     1     0     -6.22561909  8.77e-05\n",
            "    2     2     0     -6.22563054  1.51e-05\n",
            "    3     3     0     -6.22563260  6.33e-06\n",
            "    4     4     0     -6.22563335  2.47e-06\n",
            " <-- Site =    3-   3 .. Ndav =    4 E =      -6.225633346080 T =    0.433\n",
            "    1     1     0     -6.22563335  2.13e-06\n",
            " <-- Site =    2-   2 .. Ndav =    1 E =      -6.225633346080 T =    0.107\n",
            "    1     1     0     -6.22563335  5.65e-07\n",
            " <-- Site =    1-   1 .. Ndav =    1 E =      -6.225633346080 T =    0.050\n",
            "    1     1     0     -6.22563335  3.51e-07\n",
            " <-- Site =    0-   0 .. Ndav =    1 E =      -6.225633346080 T =    0.022\n",
            "Sweep =    2 | Direction =  forward | Bond dimension =  200\n",
            "    1     1     0     -6.22563335  3.51e-07\n",
            " --> Site =    0-   0 .. Ndav =    1 E =      -6.225633346080 T =    0.009\n",
            "    1     1     0     -6.22563335  5.65e-07\n",
            " --> Site =    1-   1 .. Ndav =    1 E =      -6.225633346080 T =    0.031\n",
            "    1     1     0     -6.22563335  2.13e-06\n",
            " --> Site =    2-   2 .. Ndav =    1 E =      -6.225633346080 T =    0.071\n",
            "    1     1     0     -6.22563335  2.47e-06\n",
            " --> Site =    3-   3 .. Ndav =    1 E =      -6.225633346080 T =    0.103\n",
            "    1     1     0     -6.22563335  3.37e-06\n",
            " --> Site =    4-   4 .. Ndav =    1 E =      -6.225633346080 T =    0.136\n",
            "    1     1     0     -6.22563335  1.51e-06\n",
            " --> Site =    5-   5 .. Ndav =    1 E =      -6.225633346080 T =    0.121\n",
            "    1     1     0     -6.22563335  5.54e-08\n",
            " --> Site =    6-   6 .. Ndav =    1 E =      -6.225633346080 T =    0.052\n",
            "    1     1     0     -6.22563335  1.45e-08\n",
            " --> Site =    7-   7 .. Ndav =    1 E =      -6.225633346080 T =    0.025\n",
            "GS Energy =      -6.225633346080\n",
            "time =  39.073959371\n"
          ],
          "name": "stdout"
        }
      ]
    },
    {
      "cell_type": "markdown",
      "metadata": {
        "id": "KJPpfNMvI589",
        "colab_type": "text"
      },
      "source": [
        "Check ground-state energy:"
      ]
    },
    {
      "cell_type": "code",
      "metadata": {
        "id": "zTLlZRmiI0DL",
        "colab_type": "code",
        "colab": {
          "base_uri": "https://localhost:8080/",
          "height": 34
        },
        "outputId": "29d32907-604d-4336-d43d-4d5f8c0efaa5"
      },
      "source": [
        "print('MPS energy = ', np.dot(mps, mpo @ mps))"
      ],
      "execution_count": 34,
      "outputs": [
        {
          "output_type": "stream",
          "text": [
            "MPS energy =  -6.225633346082411\n"
          ],
          "name": "stdout"
        }
      ]
    },
    {
      "cell_type": "markdown",
      "metadata": {
        "id": "KqDdbrbUIZtL",
        "colab_type": "text"
      },
      "source": [
        "Check that ground-state MPS is normalized:"
      ]
    },
    {
      "cell_type": "code",
      "metadata": {
        "id": "Mj8-fG8pHK0u",
        "colab_type": "code",
        "colab": {
          "base_uri": "https://localhost:8080/",
          "height": 51
        },
        "outputId": "21ae8655-7977-4127-9ce3-070e36ea192b"
      },
      "source": [
        "print('MPS = ', mps.show_bond_dims())\n",
        "print('MPS norm = ', mps.norm())"
      ],
      "execution_count": 35,
      "outputs": [
        {
          "output_type": "stream",
          "text": [
            "MPS =  1|4|16|64|115|64|16|4|1\n",
            "MPS norm =  0.9999999999999998\n"
          ],
          "name": "stdout"
        }
      ]
    },
    {
      "cell_type": "markdown",
      "metadata": {
        "id": "wpNxaQX5Imkt",
        "colab_type": "text"
      },
      "source": [
        "### MPS Scaling"
      ]
    },
    {
      "cell_type": "markdown",
      "metadata": {
        "id": "lyRuw6LeJIrk",
        "colab_type": "text"
      },
      "source": [
        "MPS scaling (by scaling the first MPS tensor):"
      ]
    },
    {
      "cell_type": "code",
      "metadata": {
        "id": "UmnNdT_cIhPw",
        "colab_type": "code",
        "colab": {
          "base_uri": "https://localhost:8080/",
          "height": 51
        },
        "outputId": "b8bc78b3-34ce-4f31-e09a-209977956f4d"
      },
      "source": [
        "mps.opts = {}\n",
        "print('2 MPS = ', (2 * mps).show_bond_dims())\n",
        "print((2 * mps).norm())"
      ],
      "execution_count": 36,
      "outputs": [
        {
          "output_type": "stream",
          "text": [
            "2 MPS =  1|4|16|64|115|64|16|4|1\n",
            "1.9999999999999996\n"
          ],
          "name": "stdout"
        }
      ]
    },
    {
      "cell_type": "markdown",
      "metadata": {
        "id": "1B5ZJVR4KKuu",
        "colab_type": "text"
      },
      "source": [
        "Check the first MPS tensor:"
      ]
    },
    {
      "cell_type": "code",
      "metadata": {
        "id": "7VHlRdgZKDnd",
        "colab_type": "code",
        "colab": {
          "base_uri": "https://localhost:8080/",
          "height": 85
        },
        "outputId": "b4bbb71b-26b3-444b-f6fd-c2cd1d37d771"
      },
      "source": [
        "mps[0]"
      ],
      "execution_count": 37,
      "outputs": [
        {
          "output_type": "execute_result",
          "data": {
            "text/plain": [
              "  0 (Q=) (< N=0 SZ=0 PG=0 >, < N=0 SZ=0 PG=0 >, < N=0 SZ=0 PG=0 >) (R=) array([[[1.]]])\n",
              "  1 (Q=) (< N=0 SZ=0 PG=0 >, < N=1 SZ=-1/2 PG=0 >, < N=1 SZ=-1/2 PG=0 >) (R=) array([[[1.]]])\n",
              "  2 (Q=) (< N=0 SZ=0 PG=0 >, < N=1 SZ=1/2 PG=0 >, < N=1 SZ=1/2 PG=0 >) (R=) array([[[1.]]])\n",
              "  3 (Q=) (< N=0 SZ=0 PG=0 >, < N=2 SZ=0 PG=0 >, < N=2 SZ=0 PG=0 >) (R=) array([[[1.]]])"
            ]
          },
          "metadata": {
            "tags": []
          },
          "execution_count": 37
        }
      ]
    },
    {
      "cell_type": "code",
      "metadata": {
        "id": "3ibt3zZjJaU0",
        "colab_type": "code",
        "colab": {
          "base_uri": "https://localhost:8080/",
          "height": 85
        },
        "outputId": "7e56c9b5-0dac-4f25-c6f1-703caa047fbf"
      },
      "source": [
        "(2 * mps)[0]"
      ],
      "execution_count": 38,
      "outputs": [
        {
          "output_type": "execute_result",
          "data": {
            "text/plain": [
              "  0 (Q=) (< N=0 SZ=0 PG=0 >, < N=0 SZ=0 PG=0 >, < N=0 SZ=0 PG=0 >) (R=) array([[[2.]]])\n",
              "  1 (Q=) (< N=0 SZ=0 PG=0 >, < N=1 SZ=-1/2 PG=0 >, < N=1 SZ=-1/2 PG=0 >) (R=) array([[[2.]]])\n",
              "  2 (Q=) (< N=0 SZ=0 PG=0 >, < N=1 SZ=1/2 PG=0 >, < N=1 SZ=1/2 PG=0 >) (R=) array([[[2.]]])\n",
              "  3 (Q=) (< N=0 SZ=0 PG=0 >, < N=2 SZ=0 PG=0 >, < N=2 SZ=0 PG=0 >) (R=) array([[[2.]]])"
            ]
          },
          "metadata": {
            "tags": []
          },
          "execution_count": 38
        }
      ]
    },
    {
      "cell_type": "markdown",
      "metadata": {
        "id": "xN4MkSMRKcQD",
        "colab_type": "text"
      },
      "source": [
        "### MPS Addition"
      ]
    },
    {
      "cell_type": "markdown",
      "metadata": {
        "id": "8ZLnJkSXKl2l",
        "colab_type": "text"
      },
      "source": [
        "MPS addition will increase the bond dimension:"
      ]
    },
    {
      "cell_type": "code",
      "metadata": {
        "id": "53JhV4xhJ-z8",
        "colab_type": "code",
        "colab": {
          "base_uri": "https://localhost:8080/",
          "height": 51
        },
        "outputId": "1950096f-1b16-49f2-8bcd-9cca856ba535"
      },
      "source": [
        "mps_add = mps + mps\n",
        "print('MPS + MPS = ', mps_add.show_bond_dims())\n",
        "print(mps_add.norm())"
      ],
      "execution_count": 39,
      "outputs": [
        {
          "output_type": "stream",
          "text": [
            "MPS + MPS =  1|8|32|128|230|128|32|8|1\n",
            "1.9999999999999996\n"
          ],
          "name": "stdout"
        }
      ]
    },
    {
      "cell_type": "markdown",
      "metadata": {
        "id": "9iELFxkXKrXa",
        "colab_type": "text"
      },
      "source": [
        "Check the overlap `<2MPS|MPS+MPS>`:"
      ]
    },
    {
      "cell_type": "code",
      "metadata": {
        "id": "jq1xE9NPKo4F",
        "colab_type": "code",
        "colab": {
          "base_uri": "https://localhost:8080/",
          "height": 68
        },
        "outputId": "8ab26d40-5459-49c6-b188-be922d71c4e5"
      },
      "source": [
        "%%time\n",
        "mps_add @ (2 * mps)"
      ],
      "execution_count": 40,
      "outputs": [
        {
          "output_type": "stream",
          "text": [
            "CPU times: user 20.9 ms, sys: 0 ns, total: 20.9 ms\n",
            "Wall time: 21.9 ms\n"
          ],
          "name": "stdout"
        },
        {
          "output_type": "execute_result",
          "data": {
            "text/plain": [
              "3.9999999999999982"
            ]
          },
          "metadata": {
            "tags": []
          },
          "execution_count": 40
        }
      ]
    },
    {
      "cell_type": "markdown",
      "metadata": {
        "id": "Nuj3uG8WLbx_",
        "colab_type": "text"
      },
      "source": [
        "### MPS Canonicalization"
      ]
    },
    {
      "cell_type": "markdown",
      "metadata": {
        "id": "RhZWWSsJLgBI",
        "colab_type": "text"
      },
      "source": [
        "Left canonicalization:"
      ]
    },
    {
      "cell_type": "code",
      "metadata": {
        "id": "vql4m5uqLB-X",
        "colab_type": "code",
        "colab": {
          "base_uri": "https://localhost:8080/",
          "height": 34
        },
        "outputId": "eb4456ab-3297-4d6e-be0b-cb8539151dfe"
      },
      "source": [
        "lmps = mps_add.canonicalize(center=mps_add.n_sites - 1)\n",
        "print('L-MPS = ', lmps.show_bond_dims())"
      ],
      "execution_count": 41,
      "outputs": [
        {
          "output_type": "stream",
          "text": [
            "L-MPS =  1|4|16|64|226|128|32|8|1\n"
          ],
          "name": "stdout"
        }
      ]
    },
    {
      "cell_type": "markdown",
      "metadata": {
        "id": "k6Ek0HfoLpyj",
        "colab_type": "text"
      },
      "source": [
        "Right canonicalization:"
      ]
    },
    {
      "cell_type": "code",
      "metadata": {
        "id": "8dxiwWBLLo0m",
        "colab_type": "code",
        "colab": {
          "base_uri": "https://localhost:8080/",
          "height": 34
        },
        "outputId": "bf751b28-3d97-443e-8426-c38081eca5a7"
      },
      "source": [
        "rmps = mps_add.canonicalize(center=0)\n",
        "print('R-MPS = ', rmps.show_bond_dims())"
      ],
      "execution_count": 42,
      "outputs": [
        {
          "output_type": "stream",
          "text": [
            "R-MPS =  1|8|32|128|226|64|16|4|1\n"
          ],
          "name": "stdout"
        }
      ]
    },
    {
      "cell_type": "markdown",
      "metadata": {
        "id": "dwolqul1LyKr",
        "colab_type": "text"
      },
      "source": [
        "Check the overlap `<LMPS|RMPS>`:"
      ]
    },
    {
      "cell_type": "code",
      "metadata": {
        "id": "_HjfH-EhLvIT",
        "colab_type": "code",
        "colab": {
          "base_uri": "https://localhost:8080/",
          "height": 68
        },
        "outputId": "6c668b61-55a0-4637-d8f7-ec8513e8cfe6"
      },
      "source": [
        "%%time\n",
        "lmps @ rmps"
      ],
      "execution_count": 43,
      "outputs": [
        {
          "output_type": "stream",
          "text": [
            "CPU times: user 24.7 ms, sys: 1.06 ms, total: 25.7 ms\n",
            "Wall time: 29.2 ms\n"
          ],
          "name": "stdout"
        },
        {
          "output_type": "execute_result",
          "data": {
            "text/plain": [
              "3.999999999999999"
            ]
          },
          "metadata": {
            "tags": []
          },
          "execution_count": 43
        }
      ]
    },
    {
      "cell_type": "markdown",
      "metadata": {
        "id": "QQikO5DfMHtt",
        "colab_type": "text"
      },
      "source": [
        "### MPS Compression"
      ]
    },
    {
      "cell_type": "markdown",
      "metadata": {
        "id": "d6ce7jzpMTPX",
        "colab_type": "text"
      },
      "source": [
        "Compression will first do canonicalization from left to right, then do SVD from right to left.\n",
        "\n",
        "This can further decrease bond dimension of MPS."
      ]
    },
    {
      "cell_type": "code",
      "metadata": {
        "id": "SK1JduovL6W8",
        "colab_type": "code",
        "colab": {
          "base_uri": "https://localhost:8080/",
          "height": 68
        },
        "outputId": "cad7a933-8272-4ffb-ee2e-6fb27b118045"
      },
      "source": [
        "print('MPS + MPS = ', mps_add.show_bond_dims())\n",
        "mps_add, _ = mps_add.compress(cutoff=1E-9)\n",
        "print('MPS + MPS = ', mps_add.show_bond_dims())\n",
        "print(mps_add.norm())"
      ],
      "execution_count": 44,
      "outputs": [
        {
          "output_type": "stream",
          "text": [
            "MPS + MPS =  1|8|32|128|230|128|32|8|1\n",
            "MPS + MPS =  1|4|16|64|115|64|16|4|1\n",
            "2.0000000000000004\n"
          ],
          "name": "stdout"
        }
      ]
    },
    {
      "cell_type": "markdown",
      "metadata": {
        "id": "jVqD6mwhMrJw",
        "colab_type": "text"
      },
      "source": [
        "### MPS Subtraction"
      ]
    },
    {
      "cell_type": "markdown",
      "metadata": {
        "id": "MBNakk-dM1aX",
        "colab_type": "text"
      },
      "source": [
        "Subtractoin will also increase bond dimension:"
      ]
    },
    {
      "cell_type": "code",
      "metadata": {
        "id": "suE5m0aWMOjJ",
        "colab_type": "code",
        "colab": {
          "base_uri": "https://localhost:8080/",
          "height": 34
        },
        "outputId": "162ca913-e459-445d-9a06-b95d014c1f6d"
      },
      "source": [
        "mps_minus = mps - mps\n",
        "print('MPS - MPS = ', mps_minus.show_bond_dims())"
      ],
      "execution_count": 45,
      "outputs": [
        {
          "output_type": "stream",
          "text": [
            "MPS - MPS =  1|8|32|128|230|128|32|8|1\n"
          ],
          "name": "stdout"
        }
      ]
    },
    {
      "cell_type": "markdown",
      "metadata": {
        "id": "Kw-57MI1M6At",
        "colab_type": "text"
      },
      "source": [
        "After compression, this is zero:"
      ]
    },
    {
      "cell_type": "code",
      "metadata": {
        "id": "BnEf7ifKM46k",
        "colab_type": "code",
        "colab": {
          "base_uri": "https://localhost:8080/",
          "height": 51
        },
        "outputId": "e1960e0e-004c-4c77-e134-6f45be7b3e02"
      },
      "source": [
        "mps_minus, _ = mps_minus.compress(cutoff=1E-12)\n",
        "print('MPS - MPS = ', mps_minus.show_bond_dims())\n",
        "print(mps_minus.norm())"
      ],
      "execution_count": 46,
      "outputs": [
        {
          "output_type": "stream",
          "text": [
            "MPS - MPS =  0|0|0|0|0|0|0|0|0\n",
            "0.0\n"
          ],
          "name": "stdout"
        }
      ]
    },
    {
      "cell_type": "markdown",
      "metadata": {
        "id": "voQjP9_KND0h",
        "colab_type": "text"
      },
      "source": [
        "### MPS Bond Dimension Truncation"
      ]
    },
    {
      "cell_type": "markdown",
      "metadata": {
        "id": "L--Eh477NIKF",
        "colab_type": "text"
      },
      "source": [
        "Apply MPO two times to MPS:"
      ]
    },
    {
      "cell_type": "code",
      "metadata": {
        "id": "kt1cp62tM8Lp",
        "colab_type": "code",
        "colab": {
          "base_uri": "https://localhost:8080/",
          "height": 85
        },
        "outputId": "e7f87ba6-b7e1-467c-8319-4c1132237a5c"
      },
      "source": [
        "%%time\n",
        "hhmps = mpo @ (mpo @ mps)\n",
        "print(hhmps.show_bond_dims())\n",
        "print(np.sqrt(hhmps @ mps))"
      ],
      "execution_count": 47,
      "outputs": [
        {
          "output_type": "stream",
          "text": [
            "1|136|560|2272|3924|2272|560|136|1\n",
            "6.225633682146051\n",
            "CPU times: user 534 ms, sys: 40.9 ms, total: 575 ms\n",
            "Wall time: 538 ms\n"
          ],
          "name": "stdout"
        }
      ]
    },
    {
      "cell_type": "markdown",
      "metadata": {
        "id": "xIICRSWzNheK",
        "colab_type": "text"
      },
      "source": [
        "MPS compression can be used to reduce bond dimension (to FCI):"
      ]
    },
    {
      "cell_type": "code",
      "metadata": {
        "id": "McO4EKZ8NNa8",
        "colab_type": "code",
        "colab": {
          "base_uri": "https://localhost:8080/",
          "height": 102
        },
        "outputId": "c2ccc7f2-1a9e-4373-d466-a942c7778da4"
      },
      "source": [
        "%%time\n",
        "hhmps, cps_error = hhmps.compress(cutoff=1E-12)\n",
        "print('error = ', cps_error)\n",
        "print(hhmps.show_bond_dims())\n",
        "print(np.sqrt(hhmps @ mps))"
      ],
      "execution_count": 49,
      "outputs": [
        {
          "output_type": "stream",
          "text": [
            "error =  0.0\n",
            "1|4|16|64|256|64|16|4|1\n",
            "6.225633682146053\n",
            "CPU times: user 195 ms, sys: 145 ms, total: 340 ms\n",
            "Wall time: 189 ms\n"
          ],
          "name": "stdout"
        }
      ]
    },
    {
      "cell_type": "markdown",
      "metadata": {
        "id": "vmfvTwL-N17E",
        "colab_type": "text"
      },
      "source": [
        "Truncation to bond dimension 100 will introduce a small error:"
      ]
    },
    {
      "cell_type": "code",
      "metadata": {
        "id": "GT7GjfDANx3y",
        "colab_type": "code",
        "colab": {
          "base_uri": "https://localhost:8080/",
          "height": 68
        },
        "outputId": "0287717f-102f-4707-ab9b-ebe180075fc4"
      },
      "source": [
        "hhmps, cps_error = hhmps.compress(max_bond_dim=100, cutoff=1E-12)\n",
        "print('error = ', cps_error)\n",
        "print(hhmps.show_bond_dims())\n",
        "print(np.sqrt(hhmps @ mps))"
      ],
      "execution_count": 51,
      "outputs": [
        {
          "output_type": "stream",
          "text": [
            "error =  0.0017477317693784886\n",
            "1|4|16|64|100|64|16|4|1\n",
            "6.225633681059643\n"
          ],
          "name": "stdout"
        }
      ]
    },
    {
      "cell_type": "markdown",
      "metadata": {
        "id": "sPIXnhzdOCDr",
        "colab_type": "text"
      },
      "source": [
        "Truncation to bond dimension 30 will introduce a larger error:"
      ]
    },
    {
      "cell_type": "code",
      "metadata": {
        "id": "0_C4n8htN_u4",
        "colab_type": "code",
        "colab": {
          "base_uri": "https://localhost:8080/",
          "height": 68
        },
        "outputId": "72e240b2-41ea-4657-981b-04a2fc5d921c"
      },
      "source": [
        "hhmps, cps_error = hhmps.compress(max_bond_dim=30, cutoff=1E-12)\n",
        "print('error = ', cps_error)\n",
        "print(hhmps.show_bond_dims())\n",
        "print(np.sqrt(hhmps @ mps))"
      ],
      "execution_count": 52,
      "outputs": [
        {
          "output_type": "stream",
          "text": [
            "error =  0.1285172180604722\n",
            "1|4|16|30|30|30|16|4|1\n",
            "6.225534612598654\n"
          ],
          "name": "stdout"
        }
      ]
    },
    {
      "cell_type": "markdown",
      "metadata": {
        "id": "27-2lyRQOfPq",
        "colab_type": "text"
      },
      "source": [
        "### MPO-MPO Contraction"
      ]
    },
    {
      "cell_type": "markdown",
      "metadata": {
        "id": "8QSePVUjOlMf",
        "colab_type": "text"
      },
      "source": [
        "One can also first contract two MPO:"
      ]
    },
    {
      "cell_type": "code",
      "metadata": {
        "id": "7XRiYH85OGuy",
        "colab_type": "code",
        "colab": {
          "base_uri": "https://localhost:8080/",
          "height": 68
        },
        "outputId": "b5c1934c-593b-4b8b-9aea-e9ca83f7031a"
      },
      "source": [
        "%%time\n",
        "h2 = mpo @ mpo\n",
        "print(h2.show_bond_dims())"
      ],
      "execution_count": 53,
      "outputs": [
        {
          "output_type": "stream",
          "text": [
            "1|32|32|32|32|32|32|32|1\n",
            "CPU times: user 97.5 ms, sys: 350 µs, total: 97.9 ms\n",
            "Wall time: 98.7 ms\n"
          ],
          "name": "stdout"
        }
      ]
    },
    {
      "cell_type": "markdown",
      "metadata": {
        "id": "WCI3tciVOxuY",
        "colab_type": "text"
      },
      "source": [
        "Check expectation value:"
      ]
    },
    {
      "cell_type": "code",
      "metadata": {
        "id": "WMTrciTqOpbZ",
        "colab_type": "code",
        "colab": {
          "base_uri": "https://localhost:8080/",
          "height": 68
        },
        "outputId": "bdac34d9-cd7e-4fea-8eee-fc8dd0515e78"
      },
      "source": [
        "%%time\n",
        "print(np.sqrt((h2 @ mps) @ mps))"
      ],
      "execution_count": 54,
      "outputs": [
        {
          "output_type": "stream",
          "text": [
            "6.225633682146051\n",
            "CPU times: user 437 ms, sys: 48.5 ms, total: 485 ms\n",
            "Wall time: 441 ms\n"
          ],
          "name": "stdout"
        }
      ]
    },
    {
      "cell_type": "markdown",
      "metadata": {
        "id": "_wMCmJ1YPmOo",
        "colab_type": "text"
      },
      "source": [
        "### MPO Bond Dimension Truncation"
      ]
    },
    {
      "cell_type": "markdown",
      "metadata": {
        "id": "jQkVv89AO3mG",
        "colab_type": "text"
      },
      "source": [
        "Compression MPO (keeping accuracy):"
      ]
    },
    {
      "cell_type": "code",
      "metadata": {
        "id": "VoQlOIPHOzN5",
        "colab_type": "code",
        "colab": {
          "base_uri": "https://localhost:8080/",
          "height": 68
        },
        "outputId": "b1bbfa52-0138-4dda-e8e5-1a12c5357de4"
      },
      "source": [
        "h2, cps_error = h2.compress(cutoff=1E-12)\n",
        "print('error = ', cps_error)\n",
        "print(h2.show_bond_dims())\n",
        "print(np.sqrt((h2 @ mps) @ mps))"
      ],
      "execution_count": 55,
      "outputs": [
        {
          "output_type": "stream",
          "text": [
            "error =  7.247580457972392e-13\n",
            "1|16|17|17|17|17|18|16|1\n",
            "6.225633682146052\n"
          ],
          "name": "stdout"
        }
      ]
    },
    {
      "cell_type": "markdown",
      "metadata": {
        "id": "vt9pNlKTPDXr",
        "colab_type": "text"
      },
      "source": [
        "MPO Truncated to bond dimension 15:"
      ]
    },
    {
      "cell_type": "code",
      "metadata": {
        "id": "XdMQayQrO_SW",
        "colab_type": "code",
        "colab": {
          "base_uri": "https://localhost:8080/",
          "height": 68
        },
        "outputId": "2e9dcc01-e923-40c8-9ae2-9fc2c517c126"
      },
      "source": [
        "h2, cps_error = h2.compress(max_bond_dim=15, cutoff=1E-12)\n",
        "print('error = ', cps_error)\n",
        "print(h2.show_bond_dims())\n",
        "print(np.sqrt((h2 @ mps) @ mps))"
      ],
      "execution_count": 57,
      "outputs": [
        {
          "output_type": "stream",
          "text": [
            "error =  173.3586581408118\n",
            "1|15|15|15|15|15|15|15|1\n",
            "6.119386304980971\n"
          ],
          "name": "stdout"
        }
      ]
    },
    {
      "cell_type": "markdown",
      "metadata": {
        "id": "Sv3U7BGiPYVm",
        "colab_type": "text"
      },
      "source": [
        "MPO Truncated to bond dimension 12:"
      ]
    },
    {
      "cell_type": "code",
      "metadata": {
        "id": "kZc0ohbUPKla",
        "colab_type": "code",
        "colab": {
          "base_uri": "https://localhost:8080/",
          "height": 68
        },
        "outputId": "30be4fb0-3f29-4c62-876a-f50f4f1686e8"
      },
      "source": [
        "h2, cps_error = h2.compress(max_bond_dim=12, cutoff=1E-12)\n",
        "print('error = ', cps_error)\n",
        "print(h2.show_bond_dims())\n",
        "print(np.sqrt((h2 @ mps) @ mps))"
      ],
      "execution_count": 59,
      "outputs": [
        {
          "output_type": "stream",
          "text": [
            "error =  221.6966311660231\n",
            "1|12|12|12|12|12|12|12|1\n",
            "5.816697950013615\n"
          ],
          "name": "stdout"
        }
      ]
    },
    {
      "cell_type": "markdown",
      "metadata": {
        "id": "2p8B55xJPxKI",
        "colab_type": "text"
      },
      "source": [
        "# N2 (10o, 7e) (STO3G)"
      ]
    },
    {
      "cell_type": "markdown",
      "metadata": {
        "id": "p3rs7-pnQeYl",
        "colab_type": "text"
      },
      "source": [
        "### Initialization"
      ]
    },
    {
      "cell_type": "markdown",
      "metadata": {
        "id": "0aD1JaL4QG7C",
        "colab_type": "text"
      },
      "source": [
        "Get ground-state MPS (from FCIDUMP):"
      ]
    },
    {
      "cell_type": "code",
      "metadata": {
        "id": "pRxz-D5LPaQL",
        "colab_type": "code",
        "colab": {
          "base_uri": "https://localhost:8080/",
          "height": 85
        },
        "outputId": "fce7a973-ff33-4647-df6c-9f369f1e47b0"
      },
      "source": [
        "%%time\n",
        "fd = 'data/N2.STO3G.FCIDUMP'\n",
        "fcidump = FCIDUMP(pg='d2h').read(fd)\n",
        "hamil = QCHamiltonian(fcidump)\n",
        "mpo = QCSymbolicMPO(hamil).to_sparse()\n",
        "\n",
        "print('MPO (NC) =         ', mpo.show_bond_dims())\n",
        "mpo, _ = mpo.compress(left=True, cutoff=1E-12, norm_cutoff=1E-12)\n",
        "print('MPO (compressed) = ', mpo.show_bond_dims())\n",
        "\n",
        "mps_info = MPSInfo(hamil.n_sites, hamil.vacuum, hamil.target, hamil.basis)\n",
        "mps_info.set_bond_dimension(250)\n",
        "mps = MPS.random(mps_info)\n",
        "mps.opts = dict(cutoff=1E-12, norm_cutoff=1E-12, max_bond_dim=200)\n",
        "\n",
        "me = MovingEnvironment(mps, mpo, mps)"
      ],
      "execution_count": 60,
      "outputs": [
        {
          "output_type": "stream",
          "text": [
            "MPO (NC) =          1|54|90|150|234|342|474|630|810|1014|1 (   +23.57244)\n",
            "MPO (compressed) =  1|16|42|80|90|80|62|67|30|12|1 (   +23.57244)\n",
            "CPU times: user 1.39 s, sys: 168 ms, total: 1.56 s\n",
            "Wall time: 1.38 s\n"
          ],
          "name": "stdout"
        }
      ]
    },
    {
      "cell_type": "code",
      "metadata": {
        "id": "kx6RVPYHr1_6",
        "colab_type": "code",
        "colab": {
          "base_uri": "https://localhost:8080/",
          "height": 1000
        },
        "outputId": "8015e543-f38c-44b1-dc6d-6e2255778c5d"
      },
      "source": [
        "%%time\n",
        "print(\"GS Energy = %20.12f\" % dmrg())"
      ],
      "execution_count": 61,
      "outputs": [
        {
          "output_type": "stream",
          "text": [
            "Sweep =    0 | Direction =  forward | Bond dimension =  200\n",
            "    1     1     0    -91.01700399  2.79e+01\n",
            "    2     2     0   -100.43541689  6.49e+01\n",
            "    3     3     0   -103.16626820  1.59e-03\n",
            "    4     4     0   -103.16638275  1.01e-26\n",
            " --> Site =    0-   0 .. Ndav =    4 E =    -103.166382751812 T =    0.820\n",
            "    1     1     0   -103.16638275  3.26e-01\n",
            "    2     2     0   -103.24926215  5.24e-01\n",
            "    3     3     0   -103.41447785  3.71e+00\n",
            "    4     4     0   -103.74612858  2.64e-01\n",
            "    5     5     0   -103.77788935  1.71e-01\n",
            "    6     6     0   -103.79312215  1.25e-01\n",
            "    7     7     0   -103.80534068  8.84e-02\n",
            "    8     8     0   -103.81089202  4.24e-02\n",
            "    9     9     0   -103.81394551  3.07e-02\n",
            "   10    10     0   -103.81696851  2.69e-02\n",
            "   11    11     0   -103.81994611  8.44e-03\n",
            "   12    12     0   -103.82120610  2.15e-02\n",
            "   13    13     0   -103.82676713  7.75e-02\n",
            "   14    14     0   -103.84088571  3.12e-02\n",
            "   15    15     0   -103.84269323  7.96e-03\n",
            "   16    16     0   -103.84390322  1.45e-02\n",
            "   17    17     0   -103.84609545  1.49e-02\n",
            "   18    18     0   -103.84715826  2.85e-03\n",
            "   19    19     0   -103.84852292  2.95e-02\n",
            "   20    20     0   -103.86501090  3.44e-01\n",
            "   21    21     0   -103.90349502  2.41e-02\n",
            "   22    22     0   -103.90455921  8.37e-04\n",
            "   23    23     0   -103.90460067  8.02e-05\n",
            "   24    24     0   -103.90460390  2.71e-07\n",
            " --> Site =    1-   1 .. Ndav =   24 E =    -103.904603899514 T =    6.490\n",
            "    1     1     0   -103.90460390  1.02e+01\n",
            "    2     2     0   -104.29691596  3.54e-01\n",
            "    3     3     0   -104.32442851  1.86e-01\n",
            "    4     4     0   -104.34516567  3.09e-01\n",
            "    5     5     0   -104.39286741  1.06e+00\n",
            "    6     6     0   -104.42551034  2.23e-01\n",
            "    7     7     0   -104.44830839  3.41e-01\n",
            "    8     8     0   -104.46506022  7.53e-02\n",
            "    9     9     0   -104.46829725  3.00e-02\n",
            "   10    10     0   -104.47045670  3.62e-02\n",
            "   11    11     0   -104.47207077  4.47e-02\n",
            "   12    12     0   -104.48484391  1.04e-01\n",
            "   13    13     0   -104.48994035  6.68e-02\n",
            "   14    14     0   -104.49564497  1.95e-01\n",
            "   15    15     0   -104.52852940  1.25e+00\n",
            "   16    16     0   -104.64870799  1.85e+00\n",
            "   17    17     0   -104.77719144  8.77e-01\n",
            "   18    18     0   -104.83386914  1.06e+00\n",
            "   19    19     0   -104.90524489  1.28e+00\n",
            "   20    20     0   -104.95713358  6.33e-01\n",
            "   21    21     0   -104.99465116  5.68e-01\n",
            "   22    22     0   -105.04396896  4.07e-01\n",
            "   23    23     0   -105.07084927  2.33e-01\n",
            "   24    24     0   -105.08283411  1.61e-01\n",
            "   25    25     0   -105.10461151  3.06e-01\n",
            "   26    26     0   -105.12810130  2.10e-01\n",
            "   27    27     0   -105.13677320  1.45e-01\n",
            "   28    28     0   -105.14340726  9.24e-02\n",
            "   29    29     0   -105.14896470  9.34e-02\n",
            "   30    30     0   -105.15565724  5.38e-02\n",
            "   31     3     0   -105.15786410  2.25e-02\n",
            "   32     4     0   -105.15965485  3.24e-02\n",
            "   33     5     0   -105.16145192  2.20e-02\n",
            "   34     6     0   -105.16231866  1.52e-02\n",
            "   35     7     0   -105.16326201  1.13e-02\n",
            "   36     8     0   -105.16412110  8.59e-03\n",
            "   37     9     0   -105.16471883  5.06e-03\n",
            "   38    10     0   -105.16494149  1.97e-03\n",
            "   39    11     0   -105.16515798  2.76e-03\n",
            "   40    12     0   -105.16535868  2.10e-03\n",
            "   41    13     0   -105.16545496  1.19e-03\n",
            "   42    14     0   -105.16549701  5.06e-04\n",
            "   43    15     0   -105.16552496  5.03e-04\n",
            "   44    16     0   -105.16556788  3.28e-04\n",
            "   45    17     0   -105.16558904  2.89e-04\n",
            "   46    18     0   -105.16560277  2.02e-04\n",
            "   47    19     0   -105.16561187  1.48e-04\n",
            "   48    20     0   -105.16561966  8.14e-05\n",
            "   49    21     0   -105.16562418  3.38e-05\n",
            "   50    22     0   -105.16562771  7.42e-05\n",
            "   51    23     0   -105.16563037  3.31e-05\n",
            "   52    24     0   -105.16563214  1.54e-05\n",
            "   53    25     0   -105.16563277  3.83e-06\n",
            " --> Site =    2-   2 .. Ndav =   53 E =    -105.165632770751 T =   37.546\n",
            "    1     1     0   -105.16563277  4.45e+00\n",
            "    2     2     0   -105.41647026  1.44e+00\n",
            "    3     3     0   -105.52392065  1.14e+00\n",
            "    4     4     0   -105.85813482  2.57e+00\n",
            "    5     5     0   -105.96225833  5.45e-01\n",
            "    6     6     0   -105.98262044  4.44e-01\n",
            "    7     7     0   -106.01206348  4.33e-01\n",
            "    8     8     0   -106.03788872  4.06e-01\n",
            "    9     9     0   -106.06170005  7.84e-02\n",
            "   10    10     0   -106.06454741  1.98e-02\n",
            "   11    11     0   -106.06554445  3.12e-02\n",
            "   12    12     0   -106.06834740  3.67e-02\n",
            "   13    13     0   -106.07042540  1.79e-02\n",
            "   14    14     0   -106.07120247  8.61e-03\n",
            "   15    15     0   -106.07153095  5.05e-03\n",
            "   16    16     0   -106.07183796  7.43e-03\n",
            "   17    17     0   -106.07242322  2.67e-03\n",
            "   18    18     0   -106.07253831  1.71e-03\n",
            "   19    19     0   -106.07263792  2.36e-03\n",
            "   20    20     0   -106.07278246  1.92e-03\n",
            "   21    21     0   -106.07289575  1.14e-03\n",
            "   22    22     0   -106.07294077  2.70e-04\n",
            "   23    23     0   -106.07296461  6.75e-04\n",
            "   24    24     0   -106.07300144  4.59e-04\n",
            "   25    25     0   -106.07301940  9.44e-05\n",
            "   26    26     0   -106.07302517  6.47e-05\n",
            "   27    27     0   -106.07302854  4.83e-05\n",
            "   28    28     0   -106.07303351  7.15e-05\n",
            "   29    29     0   -106.07303556  1.76e-05\n",
            "   30    30     0   -106.07303620  5.14e-06\n",
            "   31     3     0   -106.07303651  7.08e-06\n",
            "   32     4     0   -106.07303706  1.18e-05\n",
            "   33     5     0   -106.07303759  5.89e-06\n",
            "   34     6     0   -106.07303785  3.04e-06\n",
            " --> Site =    3-   3 .. Ndav =   34 E =    -106.073037853987 T =   27.083\n",
            "    1     1     0   -106.07303785  3.51e-01\n",
            "    2     2     0   -106.51445872  4.52e-01\n",
            "    3     3     0   -106.59223463  6.30e-01\n",
            "    4     4     0   -106.69243724  1.30e+00\n",
            "    5     5     0   -106.74384213  2.35e-01\n",
            "    6     6     0   -106.76276370  3.49e-01\n",
            "    7     7     0   -106.79998527  3.09e-01\n",
            "    8     8     0   -106.81794484  2.03e-01\n",
            "    9     9     0   -106.82826921  8.74e-02\n",
            "   10    10     0   -106.83964285  1.72e-01\n",
            "   11    11     0   -106.85180409  5.91e-02\n",
            "   12    12     0   -106.85643797  6.58e-02\n",
            "   13    13     0   -106.86194103  9.11e-02\n",
            "   14    14     0   -106.87075531  9.59e-02\n",
            "   15    15     0   -106.87632684  4.18e-02\n",
            "   16    16     0   -106.88225868  1.13e-01\n",
            "   17    17     0   -106.89108247  9.59e-02\n",
            "   18    18     0   -106.89720508  5.24e-02\n",
            "   19    19     0   -106.90089495  5.17e-02\n",
            "   20    20     0   -106.90800498  1.13e-01\n",
            "   21    21     0   -106.91401066  4.48e-02\n",
            "   22    22     0   -106.91772694  4.37e-02\n",
            "   23    23     0   -106.92340098  9.03e-02\n",
            "   24    24     0   -106.92980784  6.01e-02\n",
            "   25    25     0   -106.93283237  2.76e-02\n",
            "   26    26     0   -106.93550425  3.41e-02\n",
            "   27    27     0   -106.93933063  3.73e-02\n",
            "   28    28     0   -106.94091042  1.07e-02\n",
            "   29    29     0   -106.94164002  1.05e-02\n",
            "   30    30     0   -106.94266169  9.63e-03\n",
            "   31     3     0   -106.94306715  3.41e-03\n",
            "   32     4     0   -106.94324956  2.14e-03\n",
            "   33     5     0   -106.94348051  3.87e-03\n",
            "   34     6     0   -106.94376328  1.79e-03\n",
            "   35     7     0   -106.94386102  8.51e-04\n",
            "   36     8     0   -106.94391718  8.17e-04\n",
            "   37     9     0   -106.94400396  8.23e-04\n",
            "   38    10     0   -106.94404844  3.04e-04\n",
            "   39    11     0   -106.94406561  2.02e-04\n",
            "   40    12     0   -106.94408325  2.65e-04\n",
            "   41    13     0   -106.94410687  1.31e-04\n",
            "   42    14     0   -106.94411391  9.32e-05\n",
            "   43    15     0   -106.94412149  1.08e-04\n",
            "   44    16     0   -106.94413179  1.04e-04\n",
            "   45    17     0   -106.94413796  3.48e-05\n",
            "   46    18     0   -106.94414037  4.22e-05\n",
            "   47    19     0   -106.94414435  4.10e-05\n",
            "   48    20     0   -106.94414696  1.73e-05\n",
            "   49    21     0   -106.94414795  9.82e-06\n",
            "   50    22     0   -106.94414885  1.62e-05\n",
            "   51    23     0   -106.94414998  6.75e-06\n",
            "   52    24     0   -106.94415040  4.05e-06\n",
            " --> Site =    4-   4 .. Ndav =   52 E =    -106.944150402735 T =   67.920\n",
            "    1     1     0   -106.94415040  6.67e-03\n",
            "    2     2     0   -106.94703499  1.28e-03\n",
            "    3     3     0   -106.94733450  4.04e-03\n",
            "    4     4     0   -106.94778347  3.86e-03\n",
            "    5     5     0   -106.94814153  2.93e-03\n",
            "    6     6     0   -106.94857108  8.28e-03\n",
            "    7     7     0   -106.95010371  1.22e-02\n",
            "    8     8     0   -106.95128966  2.11e-02\n",
            "    9     9     0   -106.98174806  1.14e+00\n",
            "   10    10     0   -107.10913949  9.01e-01\n",
            "   11    11     0   -107.20727536  1.16e+00\n",
            "   12    12     0   -107.35421396  1.33e+00\n",
            "   13    13     0   -107.44666567  4.63e-01\n",
            "   14    14     0   -107.51298584  7.37e-01\n",
            "   15    15     0   -107.57569292  3.92e-01\n",
            "   16    16     0   -107.60109454  1.63e-01\n",
            "   17    17     0   -107.62585767  1.84e-01\n",
            "   18    18     0   -107.63886500  6.99e-02\n",
            "   19    19     0   -107.64412713  4.17e-02\n",
            "   20    20     0   -107.64972544  2.42e-02\n",
            "   21    21     0   -107.65119502  8.77e-03\n",
            "   22    22     0   -107.65208725  7.26e-03\n",
            "   23    23     0   -107.65276615  3.30e-03\n",
            "   24    24     0   -107.65301558  1.75e-03\n",
            "   25    25     0   -107.65317347  1.22e-03\n",
            "   26    26     0   -107.65326906  5.59e-04\n",
            "   27    27     0   -107.65333621  5.31e-04\n",
            "   28    28     0   -107.65337851  2.50e-04\n",
            "   29    29     0   -107.65339595  1.17e-04\n",
            "   30    30     0   -107.65340891  9.17e-05\n",
            "   31     3     0   -107.65341263  2.49e-05\n",
            "   32     4     0   -107.65341570  2.86e-05\n",
            "   33     5     0   -107.65341848  2.09e-05\n",
            "   34     6     0   -107.65341990  8.14e-06\n",
            "   35     7     0   -107.65342100  8.60e-06\n",
            "   36     8     0   -107.65342161  3.22e-06\n",
            " --> Site =    5-   5 .. Ndav =   36 E =    -107.653421612520 T =   25.690\n",
            "    1     1     0   -107.65342161  1.51e-03\n",
            "    2     2     0   -107.65402023  8.89e-05\n",
            "    3     3     0   -107.65402448  4.31e-05\n",
            "    4     4     0   -107.65403120  1.71e-05\n",
            "    5     5     0   -107.65403238  3.76e-06\n",
            " --> Site =    6-   6 .. Ndav =    5 E =    -107.654032376300 T =    0.622\n",
            "    1     1     0   -107.65403238  5.22e-07\n",
            " --> Site =    7-   7 .. Ndav =    1 E =    -107.654032376300 T =    0.169\n",
            "    1     1     0   -107.65403238  2.49e-07\n",
            " --> Site =    8-   8 .. Ndav =    1 E =    -107.654032376300 T =    0.097\n",
            "    1     1     0   -107.65403238  9.41e-08\n",
            " --> Site =    9-   9 .. Ndav =    1 E =    -107.654032376300 T =    0.020\n",
            "Sweep =    1 | Direction = backward | Bond dimension =  200\n",
            "    1     1     0   -107.65403238  9.41e-08\n",
            " <-- Site =    9-   9 .. Ndav =    1 E =    -107.654032376300 T =    0.011\n",
            "    1     1     0   -107.65403238  2.49e-07\n",
            " <-- Site =    8-   8 .. Ndav =    1 E =    -107.654032376300 T =    0.030\n",
            "    1     1     0   -107.65403238  5.22e-07\n",
            " <-- Site =    7-   7 .. Ndav =    1 E =    -107.654032376300 T =    0.096\n",
            "    1     1     0   -107.65403238  3.76e-06\n",
            " <-- Site =    6-   6 .. Ndav =    1 E =    -107.654032376300 T =    0.152\n",
            "    1     1     0   -107.65403238  7.19e-06\n",
            "    2     2     0   -107.65403270  2.20e-06\n",
            " <-- Site =    5-   5 .. Ndav =    2 E =    -107.654032698001 T =    0.331\n",
            "    1     1     0   -107.65403270  1.22e-03\n",
            "    2     2     0   -107.65408877  3.45e-04\n",
            "    3     3     0   -107.65410261  1.08e-04\n",
            "    4     4     0   -107.65411097  1.25e-04\n",
            "    5     5     0   -107.65412025  1.68e-05\n",
            "    6     6     0   -107.65412084  5.02e-06\n",
            "    7     7     0   -107.65412116  3.58e-06\n",
            " <-- Site =    4-   4 .. Ndav =    7 E =    -107.654121164164 T =    2.400\n",
            "    1     1     0   -107.65412116  6.34e-06\n",
            "    2     2     0   -107.65412136  1.41e-06\n",
            " <-- Site =    3-   3 .. Ndav =    2 E =    -107.654121364295 T =    0.620\n",
            "    1     1     0   -107.65412136  8.17e-07\n",
            " <-- Site =    2-   2 .. Ndav =    1 E =    -107.654121364295 T =    0.248\n",
            "    1     1     0   -107.65412136  1.31e-07\n",
            " <-- Site =    1-   1 .. Ndav =    1 E =    -107.654121364295 T =    0.113\n",
            "    1     1     0   -107.65412136  3.52e-11\n",
            " <-- Site =    0-   0 .. Ndav =    1 E =    -107.654121364295 T =    0.050\n",
            "Sweep =    2 | Direction =  forward | Bond dimension =  200\n",
            "    1     1     0   -107.65412136  3.52e-11\n",
            " --> Site =    0-   0 .. Ndav =    1 E =    -107.654121364295 T =    0.011\n",
            "    1     1     0   -107.65412136  1.31e-07\n",
            " --> Site =    1-   1 .. Ndav =    1 E =    -107.654121364295 T =    0.073\n",
            "    1     1     0   -107.65412136  8.17e-07\n",
            " --> Site =    2-   2 .. Ndav =    1 E =    -107.654121364295 T =    0.139\n",
            "    1     1     0   -107.65412136  1.41e-06\n",
            " --> Site =    3-   3 .. Ndav =    1 E =    -107.654121364295 T =    0.229\n",
            "    1     1     0   -107.65412136  1.68e-06\n",
            " --> Site =    4-   4 .. Ndav =    1 E =    -107.654121364295 T =    0.559\n",
            "    1     1     0   -107.65412136  1.44e-06\n",
            " --> Site =    5-   5 .. Ndav =    1 E =    -107.654121364295 T =    0.465\n",
            "    1     1     0   -107.65412136  1.06e-06\n",
            " --> Site =    6-   6 .. Ndav =    1 E =    -107.654121364295 T =    0.254\n",
            "    1     1     0   -107.65412136  7.60e-07\n",
            " --> Site =    7-   7 .. Ndav =    1 E =    -107.654121364295 T =    0.169\n",
            "    1     1     0   -107.65412136  3.41e-07\n",
            " --> Site =    8-   8 .. Ndav =    1 E =    -107.654121364295 T =    0.094\n",
            "    1     1     0   -107.65412136  4.46e-08\n",
            " --> Site =    9-   9 .. Ndav =    1 E =    -107.654121364295 T =    0.021\n",
            "GS Energy =    -107.654121364295\n",
            "CPU times: user 2min 54s, sys: 17.7 s, total: 3min 12s\n",
            "Wall time: 2min 52s\n"
          ],
          "name": "stdout"
        }
      ]
    },
    {
      "cell_type": "markdown",
      "metadata": {
        "id": "ut2iwHvdQMP3",
        "colab_type": "text"
      },
      "source": [
        "Check MPO:"
      ]
    },
    {
      "cell_type": "code",
      "metadata": {
        "id": "bMxaZwasQDU_",
        "colab_type": "code",
        "colab": {
          "base_uri": "https://localhost:8080/",
          "height": 51
        },
        "outputId": "e9157ac5-1d92-43b5-9af5-bd763764c4a2"
      },
      "source": [
        "print('MPO = ', mpo.show_bond_dims())\n",
        "mpo, error = mpo.compress(cutoff=1E-12)\n",
        "print('MPO = ', mpo.show_bond_dims())"
      ],
      "execution_count": 62,
      "outputs": [
        {
          "output_type": "stream",
          "text": [
            "MPO =  1|16|42|80|90|80|62|67|30|12|1 (   +23.57244)\n",
            "MPO =  1|16|42|80|90|80|62|67|30|12|1 (   +23.57244)\n"
          ],
          "name": "stdout"
        }
      ]
    },
    {
      "cell_type": "markdown",
      "metadata": {
        "id": "wfsbChLsQRIX",
        "colab_type": "text"
      },
      "source": [
        "Check MPS:"
      ]
    },
    {
      "cell_type": "code",
      "metadata": {
        "id": "X5z6kAwMQON1",
        "colab_type": "code",
        "colab": {
          "base_uri": "https://localhost:8080/",
          "height": 51
        },
        "outputId": "85cdbf39-a8c6-4381-e664-215983c167d7"
      },
      "source": [
        "print('MPS = ', mps.show_bond_dims())\n",
        "print(mps.norm())"
      ],
      "execution_count": 63,
      "outputs": [
        {
          "output_type": "stream",
          "text": [
            "MPS =  1|4|16|58|106|96|50|30|8|4|1\n",
            "0.9999999999999996\n"
          ],
          "name": "stdout"
        }
      ]
    },
    {
      "cell_type": "markdown",
      "metadata": {
        "id": "srOpUJV9QVZy",
        "colab_type": "text"
      },
      "source": [
        "Check ground-state energy:"
      ]
    },
    {
      "cell_type": "code",
      "metadata": {
        "id": "ggK-et6IQS7e",
        "colab_type": "code",
        "colab": {
          "base_uri": "https://localhost:8080/",
          "height": 68
        },
        "outputId": "adaff8d2-a457-4504-d420-6b7271dbc4f2"
      },
      "source": [
        "%%time\n",
        "mps @ (mpo @ mps)"
      ],
      "execution_count": 65,
      "outputs": [
        {
          "output_type": "stream",
          "text": [
            "CPU times: user 1.7 s, sys: 240 ms, total: 1.94 s\n",
            "Wall time: 1.68 s\n"
          ],
          "name": "stdout"
        },
        {
          "output_type": "execute_result",
          "data": {
            "text/plain": [
              "-107.65412136429518"
            ]
          },
          "metadata": {
            "tags": []
          },
          "execution_count": 65
        }
      ]
    },
    {
      "cell_type": "markdown",
      "metadata": {
        "id": "pJ842HuIQtaJ",
        "colab_type": "text"
      },
      "source": [
        "### MPO-MPS Contraction"
      ]
    },
    {
      "cell_type": "code",
      "metadata": {
        "id": "RzFe5TWuQZmq",
        "colab_type": "code",
        "colab": {
          "base_uri": "https://localhost:8080/",
          "height": 85
        },
        "outputId": "ebeb43e6-5513-414d-b69b-df62ddc950ca"
      },
      "source": [
        "%%time\n",
        "mps.opts = {}\n",
        "hmps = mpo @ mps\n",
        "print(hmps.show_bond_dims())\n",
        "print(hmps.norm())"
      ],
      "execution_count": 67,
      "outputs": [
        {
          "output_type": "stream",
          "text": [
            "1|68|688|4698|9646|7776|3150|2040|248|52|1\n",
            "107.65412137543466\n",
            "CPU times: user 3.03 s, sys: 272 ms, total: 3.3 s\n",
            "Wall time: 2.35 s\n"
          ],
          "name": "stdout"
        }
      ]
    },
    {
      "cell_type": "markdown",
      "metadata": {
        "id": "2hMcIP5HQ4n1",
        "colab_type": "text"
      },
      "source": [
        "The result MPS can be compressed:"
      ]
    },
    {
      "cell_type": "code",
      "metadata": {
        "id": "njonXT42QyRP",
        "colab_type": "code",
        "colab": {
          "base_uri": "https://localhost:8080/",
          "height": 51
        },
        "outputId": "47b9435e-43f1-4705-dad1-3fab7eb9d118"
      },
      "source": [
        "hmps, _ = hmps.compress(cutoff=1E-12)\n",
        "print(hmps.show_bond_dims())\n",
        "print(hmps.norm())"
      ],
      "execution_count": 68,
      "outputs": [
        {
          "output_type": "stream",
          "text": [
            "1|4|16|58|106|96|50|30|8|4|1\n",
            "107.65412137543454\n"
          ],
          "name": "stdout"
        }
      ]
    },
    {
      "cell_type": "markdown",
      "metadata": {
        "id": "CqCIUL9nRFWn",
        "colab_type": "text"
      },
      "source": [
        "MPO truncation to bond dimension 50:"
      ]
    },
    {
      "cell_type": "code",
      "metadata": {
        "id": "9EYqNdPtRAfy",
        "colab_type": "code",
        "colab": {
          "base_uri": "https://localhost:8080/",
          "height": 51
        },
        "outputId": "08d22dac-950c-4145-b211-67dab52d23b8"
      },
      "source": [
        "cmpo, cps_error = mpo.compress(max_bond_dim=50, cutoff=1E-12)\n",
        "print('error = ', cps_error)\n",
        "print(cmpo.show_bond_dims())"
      ],
      "execution_count": 70,
      "outputs": [
        {
          "output_type": "stream",
          "text": [
            "error =  234.66416609498486\n",
            "1|16|42|50|50|50|50|50|30|12|1 (   +23.57244)\n"
          ],
          "name": "stdout"
        }
      ]
    },
    {
      "cell_type": "markdown",
      "metadata": {
        "id": "ks7Wi-apRPdX",
        "colab_type": "text"
      },
      "source": [
        "Apply contracted MPO to MPS:"
      ]
    },
    {
      "cell_type": "code",
      "metadata": {
        "id": "z9z-IZJvRMXV",
        "colab_type": "code",
        "colab": {
          "base_uri": "https://localhost:8080/",
          "height": 51
        },
        "outputId": "b97cd6cd-59de-4387-d559-d3a400d98b13"
      },
      "source": [
        "hmps = cmpo @ mps\n",
        "print(hmps.show_bond_dims())\n",
        "print(hmps.norm())"
      ],
      "execution_count": 71,
      "outputs": [
        {
          "output_type": "stream",
          "text": [
            "1|68|688|2958|5406|4896|2550|1530|248|52|1\n",
            "107.60510163078064\n"
          ],
          "name": "stdout"
        }
      ]
    },
    {
      "cell_type": "markdown",
      "metadata": {
        "id": "IkTuzJQ_RY9f",
        "colab_type": "text"
      },
      "source": [
        "### Determinants"
      ]
    },
    {
      "cell_type": "markdown",
      "metadata": {
        "id": "Tz5dNwMCRfZf",
        "colab_type": "text"
      },
      "source": [
        "Using SliceableTensor:"
      ]
    },
    {
      "cell_type": "code",
      "metadata": {
        "id": "8eTY31YJRR1A",
        "colab_type": "code",
        "colab": {
          "base_uri": "https://localhost:8080/",
          "height": 272
        },
        "outputId": "4a788a82-6e01-41ce-dfc0-c3e8437ff1cb"
      },
      "source": [
        "smps = mps.to_sliceable()\n",
        "print(smps[0])\n",
        "print('-'*20)\n",
        "print(smps[0][:, 2:, 2])\n",
        "print('-'*20)\n",
        "print(smps[0][:, :2, 2].infos)\n",
        "print('-'*20)\n",
        "print(smps[0])\n",
        "print('-'*20)\n",
        "print(smps.amplitude([3, 3, 0, 3, 0, 3, 3, 3, 3, 0]))"
      ],
      "execution_count": 77,
      "outputs": [
        {
          "output_type": "stream",
          "text": [
            "   [0 0 0] (Q=) (< N=0 SZ=0 PG=0 >, < N=0 SZ=0 PG=0 >, < N=0 SZ=0 PG=0 >) (R=) array([[[1.]]])\n",
            "   [0 1 1] (Q=) (< N=0 SZ=0 PG=0 >, < N=1 SZ=-1/2 PG=0 >, < N=1 SZ=-1/2 PG=0 >) (R=) array([[[1.]]])\n",
            "   [0 2 2] (Q=) (< N=0 SZ=0 PG=0 >, < N=1 SZ=1/2 PG=0 >, < N=1 SZ=1/2 PG=0 >) (R=) array([[[1.]]])\n",
            "   [0 3 3] (Q=) (< N=0 SZ=0 PG=0 >, < N=2 SZ=0 PG=0 >, < N=2 SZ=0 PG=0 >) (R=) array([[[1.]]])\n",
            "--------------------\n",
            "     [0 0] (Q=) (< N=0 SZ=0 PG=0 >, < N=1 SZ=1/2 PG=0 >, < N=1 SZ=1/2 PG=0 >) (R=) array([[[1.]]])\n",
            "--------------------\n",
            "(< N=0 SZ=0 PG=0 > = 1, < N=0 SZ=0 PG=0 > = 1 < N=1 SZ=-1/2 PG=0 > = 1 < N=1 SZ=1/2 PG=0 > = 1 < N=2 SZ=0 PG=0 > = 1, < N=1 SZ=1/2 PG=0 > = 1)\n",
            "--------------------\n",
            "   [0 0 0] (Q=) (< N=0 SZ=0 PG=0 >, < N=0 SZ=0 PG=0 >, < N=0 SZ=0 PG=0 >) (R=) array([[[1.]]])\n",
            "   [0 1 1] (Q=) (< N=0 SZ=0 PG=0 >, < N=1 SZ=-1/2 PG=0 >, < N=1 SZ=-1/2 PG=0 >) (R=) array([[[1.]]])\n",
            "   [0 2 2] (Q=) (< N=0 SZ=0 PG=0 >, < N=1 SZ=1/2 PG=0 >, < N=1 SZ=1/2 PG=0 >) (R=) array([[[1.]]])\n",
            "   [0 3 3] (Q=) (< N=0 SZ=0 PG=0 >, < N=2 SZ=0 PG=0 >, < N=2 SZ=0 PG=0 >) (R=) array([[[1.]]])\n",
            "--------------------\n",
            "-0.002073623449438148\n"
          ],
          "name": "stdout"
        }
      ]
    },
    {
      "cell_type": "markdown",
      "metadata": {
        "id": "CFD13FSLRvrZ",
        "colab_type": "text"
      },
      "source": [
        "If the determinant belongs to another symmetry sector, the overlap should be zero:"
      ]
    },
    {
      "cell_type": "code",
      "metadata": {
        "id": "jnVb1xnIRtWv",
        "colab_type": "code",
        "colab": {
          "base_uri": "https://localhost:8080/",
          "height": 34
        },
        "outputId": "f3731fcb-b421-4822-a5a5-9a55c4343ed7"
      },
      "source": [
        "print(smps.amplitude([3, 3, 0, 0, 0, 3, 3, 3, 3, 0]))"
      ],
      "execution_count": 76,
      "outputs": [
        {
          "output_type": "stream",
          "text": [
            "0\n"
          ],
          "name": "stdout"
        }
      ]
    },
    {
      "cell_type": "markdown",
      "metadata": {
        "id": "gCcFlnTgSH1b",
        "colab_type": "text"
      },
      "source": [
        "Check the overlap for all doubly occupied determinants:"
      ]
    },
    {
      "cell_type": "code",
      "metadata": {
        "id": "4D0B37jPR6lb",
        "colab_type": "code",
        "colab": {
          "base_uri": "https://localhost:8080/",
          "height": 1000
        },
        "outputId": "f249e823-5590-4dd3-85f9-de91764cc161"
      },
      "source": [
        "%%time\n",
        "import itertools\n",
        "\n",
        "coeffs = []\n",
        "for ocp in itertools.combinations(range(10), 7):\n",
        "    det = [0] * mps.n_sites\n",
        "    for t in ocp:\n",
        "        det[t] = 3\n",
        "    tt = time.perf_counter()\n",
        "    coeffs.append(smps.amplitude(det))\n",
        "    print(np.array(det), \"%10.5f\" % coeffs[-1])"
      ],
      "execution_count": 79,
      "outputs": [
        {
          "output_type": "stream",
          "text": [
            "[3 3 3 3 3 3 3 0 0 0]    0.01152\n",
            "[3 3 3 3 3 3 0 3 0 0]   -0.00187\n",
            "[3 3 3 3 3 3 0 0 3 0]    0.01151\n",
            "[3 3 3 3 3 3 0 0 0 3]   -0.00190\n",
            "[3 3 3 3 3 0 3 3 0 0]    0.01302\n",
            "[3 3 3 3 3 0 3 0 3 0]   -0.95744\n",
            "[3 3 3 3 3 0 3 0 0 3]    0.13165\n",
            "[3 3 3 3 3 0 0 3 3 0]    0.13164\n",
            "[3 3 3 3 3 0 0 3 0 3]   -0.03860\n",
            "[3 3 3 3 3 0 0 0 3 3]    0.01307\n",
            "[3 3 3 3 0 3 3 3 0 0]   -0.00086\n",
            "[3 3 3 3 0 3 3 0 3 0]    0.01316\n",
            "[3 3 3 3 0 3 3 0 0 3]   -0.00241\n",
            "[3 3 3 3 0 3 0 3 3 0]   -0.00240\n",
            "[3 3 3 3 0 3 0 3 0 3]    0.00056\n",
            "[3 3 3 3 0 3 0 0 3 3]   -0.00085\n",
            "[3 3 3 3 0 0 3 3 3 0]    0.05454\n",
            "[3 3 3 3 0 0 3 3 0 3]   -0.00687\n",
            "[3 3 3 3 0 0 3 0 3 3]    0.05452\n",
            "[3 3 3 3 0 0 0 3 3 3]   -0.00687\n",
            "[3 3 3 0 3 3 3 3 0 0]   -0.00002\n",
            "[3 3 3 0 3 3 3 0 3 0]    0.00099\n",
            "[3 3 3 0 3 3 3 0 0 3]   -0.00014\n",
            "[3 3 3 0 3 3 0 3 3 0]   -0.00014\n",
            "[3 3 3 0 3 3 0 3 0 3]    0.00004\n",
            "[3 3 3 0 3 3 0 0 3 3]   -0.00002\n",
            "[3 3 3 0 3 0 3 3 3 0]    0.00032\n",
            "[3 3 3 0 3 0 3 3 0 3]   -0.00005\n",
            "[3 3 3 0 3 0 3 0 3 3]    0.00032\n",
            "[3 3 3 0 3 0 0 3 3 3]   -0.00005\n",
            "[3 3 3 0 0 3 3 3 3 0]   -0.00006\n",
            "[3 3 3 0 0 3 3 3 0 3]    0.00001\n",
            "[3 3 3 0 0 3 3 0 3 3]   -0.00006\n",
            "[3 3 3 0 0 3 0 3 3 3]    0.00001\n",
            "[3 3 3 0 0 0 3 3 3 3]   -0.00004\n",
            "[3 3 0 3 3 3 3 3 0 0]   -0.00073\n",
            "[3 3 0 3 3 3 3 0 3 0]    0.02703\n",
            "[3 3 0 3 3 3 3 0 0 3]   -0.00683\n",
            "[3 3 0 3 3 3 0 3 3 0]   -0.00683\n",
            "[3 3 0 3 3 3 0 3 0 3]    0.00366\n",
            "[3 3 0 3 3 3 0 0 3 3]   -0.00073\n",
            "[3 3 0 3 3 0 3 3 3 0]    0.02503\n",
            "[3 3 0 3 3 0 3 3 0 3]   -0.00208\n",
            "[3 3 0 3 3 0 3 0 3 3]    0.02503\n",
            "[3 3 0 3 3 0 0 3 3 3]   -0.00208\n",
            "[3 3 0 3 0 3 3 3 3 0]   -0.00207\n",
            "[3 3 0 3 0 3 3 3 0 3]    0.00044\n",
            "[3 3 0 3 0 3 3 0 3 3]   -0.00207\n",
            "[3 3 0 3 0 3 0 3 3 3]    0.00044\n",
            "[3 3 0 3 0 0 3 3 3 3]   -0.00494\n",
            "[3 3 0 0 3 3 3 3 3 0]   -0.00003\n",
            "[3 3 0 0 3 3 3 3 0 3]    0.00000\n",
            "[3 3 0 0 3 3 3 0 3 3]   -0.00003\n",
            "[3 3 0 0 3 3 0 3 3 3]    0.00000\n",
            "[3 3 0 0 3 0 3 3 3 3]   -0.00002\n",
            "[3 3 0 0 0 3 3 3 3 3]    0.00001\n",
            "[3 0 3 3 3 3 3 3 0 0]   -0.00048\n",
            "[3 0 3 3 3 3 3 0 3 0]    0.02300\n",
            "[3 0 3 3 3 3 3 0 0 3]   -0.00496\n",
            "[3 0 3 3 3 3 0 3 3 0]   -0.00495\n",
            "[3 0 3 3 3 3 0 3 0 3]    0.00216\n",
            "[3 0 3 3 3 3 0 0 3 3]   -0.00048\n",
            "[3 0 3 3 3 0 3 3 3 0]    0.01102\n",
            "[3 0 3 3 3 0 3 3 0 3]   -0.00118\n",
            "[3 0 3 3 3 0 3 0 3 3]    0.01102\n",
            "[3 0 3 3 3 0 0 3 3 3]   -0.00118\n",
            "[3 0 3 3 0 3 3 3 3 0]   -0.00149\n",
            "[3 0 3 3 0 3 3 3 0 3]    0.00026\n",
            "[3 0 3 3 0 3 3 0 3 3]   -0.00149\n",
            "[3 0 3 3 0 3 0 3 3 3]    0.00026\n",
            "[3 0 3 3 0 0 3 3 3 3]   -0.00200\n",
            "[3 0 3 0 3 3 3 3 3 0]   -0.00002\n",
            "[3 0 3 0 3 3 3 3 0 3]    0.00000\n",
            "[3 0 3 0 3 3 3 0 3 3]   -0.00002\n",
            "[3 0 3 0 3 3 0 3 3 3]    0.00000\n",
            "[3 0 3 0 3 0 3 3 3 3]   -0.00001\n",
            "[3 0 3 0 0 3 3 3 3 3]    0.00000\n",
            "[3 0 0 3 3 3 3 3 3 0]   -0.00090\n",
            "[3 0 0 3 3 3 3 3 0 3]   -0.00003\n",
            "[3 0 0 3 3 3 3 0 3 3]   -0.00090\n",
            "[3 0 0 3 3 3 0 3 3 3]   -0.00003\n",
            "[3 0 0 3 3 0 3 3 3 3]   -0.00044\n",
            "[3 0 0 3 0 3 3 3 3 3]    0.00030\n",
            "[3 0 0 0 3 3 3 3 3 3]    0.00000\n",
            "[0 3 3 3 3 3 3 3 0 0]   -0.00002\n",
            "[0 3 3 3 3 3 3 0 3 0]    0.00095\n",
            "[0 3 3 3 3 3 3 0 0 3]   -0.00014\n",
            "[0 3 3 3 3 3 0 3 3 0]   -0.00014\n",
            "[0 3 3 3 3 3 0 3 0 3]    0.00004\n",
            "[0 3 3 3 3 3 0 0 3 3]   -0.00002\n",
            "[0 3 3 3 3 0 3 3 3 0]    0.00030\n",
            "[0 3 3 3 3 0 3 3 0 3]   -0.00004\n",
            "[0 3 3 3 3 0 3 0 3 3]    0.00030\n",
            "[0 3 3 3 3 0 0 3 3 3]   -0.00004\n",
            "[0 3 3 3 0 3 3 3 3 0]   -0.00006\n",
            "[0 3 3 3 0 3 3 3 0 3]    0.00001\n",
            "[0 3 3 3 0 3 3 0 3 3]   -0.00006\n",
            "[0 3 3 3 0 3 0 3 3 3]    0.00001\n",
            "[0 3 3 3 0 0 3 3 3 3]   -0.00004\n",
            "[0 3 3 0 3 3 3 3 3 0]    0.00000\n",
            "[0 3 3 0 3 3 3 3 0 3]   -0.00000\n",
            "[0 3 3 0 3 3 3 0 3 3]    0.00000\n",
            "[0 3 3 0 3 3 0 3 3 3]   -0.00000\n",
            "[0 3 3 0 3 0 3 3 3 3]   -0.00000\n",
            "[0 3 3 0 0 3 3 3 3 3]   -0.00000\n",
            "[0 3 0 3 3 3 3 3 3 0]   -0.00003\n",
            "[0 3 0 3 3 3 3 3 0 3]    0.00000\n",
            "[0 3 0 3 3 3 3 0 3 3]   -0.00003\n",
            "[0 3 0 3 3 3 0 3 3 3]    0.00000\n",
            "[0 3 0 3 3 0 3 3 3 3]   -0.00002\n",
            "[0 3 0 3 0 3 3 3 3 3]    0.00001\n",
            "[0 3 0 0 3 3 3 3 3 3]    0.00000\n",
            "[0 0 3 3 3 3 3 3 3 0]   -0.00002\n",
            "[0 0 3 3 3 3 3 3 0 3]    0.00000\n",
            "[0 0 3 3 3 3 3 0 3 3]   -0.00002\n",
            "[0 0 3 3 3 3 0 3 3 3]    0.00000\n",
            "[0 0 3 3 3 0 3 3 3 3]   -0.00001\n",
            "[0 0 3 3 0 3 3 3 3 3]    0.00000\n",
            "[0 0 3 0 3 3 3 3 3 3]   -0.00000\n",
            "[0 0 0 3 3 3 3 3 3 3]    0.00000\n",
            "CPU times: user 626 ms, sys: 76.9 ms, total: 702 ms\n",
            "Wall time: 673 ms\n"
          ],
          "name": "stdout"
        }
      ]
    },
    {
      "cell_type": "markdown",
      "metadata": {
        "id": "jMWu3vWZSTou",
        "colab_type": "text"
      },
      "source": [
        "Check the sum of probabilities:"
      ]
    },
    {
      "cell_type": "code",
      "metadata": {
        "id": "cR7kvo1bSOfp",
        "colab_type": "code",
        "colab": {
          "base_uri": "https://localhost:8080/",
          "height": 34
        },
        "outputId": "2775ba5b-be45-4f3b-b0ce-1750b9022830"
      },
      "source": [
        "print((np.array(coeffs) ** 2).sum())"
      ],
      "execution_count": 80,
      "outputs": [
        {
          "output_type": "stream",
          "text": [
            "0.9626586596915242\n"
          ],
          "name": "stdout"
        }
      ]
    },
    {
      "cell_type": "markdown",
      "metadata": {
        "id": "y6lxPXGCmPNo",
        "colab_type": "text"
      },
      "source": [
        "# Finite-Temperature DMRG"
      ]
    },
    {
      "cell_type": "markdown",
      "metadata": {
        "id": "qXbdBIJPuUJv",
        "colab_type": "text"
      },
      "source": [
        "to be finished...\n",
        "\n",
        "A block2-assisted version is in tests/ancilla.py"
      ]
    }
  ]
}